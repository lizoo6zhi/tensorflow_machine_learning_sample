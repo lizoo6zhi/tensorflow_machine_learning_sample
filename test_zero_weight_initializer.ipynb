{
 "cells": [
  {
   "cell_type": "markdown",
   "metadata": {},
   "source": [
    "模拟反向神经网络，输出每次迭代的权重更新\n",
    "    \n",
    "    共三层神经网络，掩藏层,输出层都为sigmoid\n",
    "    输入层2个神经元\n",
    "    掩藏层2个神经元\n",
    "    输出层2个神经元"
   ]
  },
  {
   "cell_type": "code",
   "execution_count": 48,
   "metadata": {},
   "outputs": [
    {
     "name": "stdout",
     "output_type": "stream",
     "text": [
      "Epoch 1/2\n",
      "1/1 [==============================] - 0s 365ms/sample - loss: 0.2357 - acc: 1.0000\n",
      "Epoch 2/2\n",
      "1/1 [==============================] - 0s 2ms/sample - loss: 0.2354 - acc: 1.0000\n"
     ]
    },
    {
     "data": {
      "text/plain": [
       "<tensorflow.python.keras.callbacks.History at 0x27c2af71978>"
      ]
     },
     "execution_count": 48,
     "metadata": {},
     "output_type": "execute_result"
    }
   ],
   "source": [
    "from tensorflow.keras.layers import Dense,Activation\n",
    "from tensorflow.keras.models import Sequential\n",
    "from tensorflow.keras.optimizers import SGD\n",
    "from tensorflow.keras.initializers import constant,zeros\n",
    "import numpy as np\n",
    "\n",
    "n_inputs = 2\n",
    "n_hiddens = 2\n",
    "n_outputs = 2\n",
    "\n",
    "x = np.array([0.05,0.1]).reshape(1,2)\n",
    "y = np.array([0.1,0.99]).reshape(1,2)\n",
    "w1 = np.array([0.15,0.25,0.2,0.3]).reshape(2,2)\n",
    "w2 = np.array([0.4,0.5,0.45,0.55]).reshape(2,2)\n",
    "model = Sequential()\n",
    "model.add(Dense(n_hiddens,kernel_initializer=constant(w1),bias_initializer=constant(0.35)))\n",
    "model.add(Activation('sigmoid'))\n",
    "model.add(Dense(n_outputs,kernel_initializer=constant(w2),bias_initializer=constant(0.6)))\n",
    "model.add(Activation('sigmoid'))\n",
    "\n",
    "model.compile(optimizer=SGD(),loss='mean_squared_error',metrics=['accuracy'])\n",
    "model.fit(x,y,verbose=1,epochs=2)"
   ]
  },
  {
   "cell_type": "code",
   "execution_count": 55,
   "metadata": {},
   "outputs": [
    {
     "name": "stdout",
     "output_type": "stream",
     "text": [
      "weight: [array([[0.14999287, 0.24999188],\n",
      "       [0.19998571, 0.29998377]], dtype=float32), array([0.34985715, 0.34983745], dtype=float32)]\n",
      "weight: []\n",
      "weight: [array([[0.39855585, 0.50045186],\n",
      "       [0.44854707, 0.5504546 ]], dtype=float32), array([0.59756577, 0.60076165], dtype=float32)]\n",
      "weight: []\n"
     ]
    }
   ],
   "source": [
    "for layer in model.layers:\n",
    "    print('weight:',layer.get_weights())"
   ]
  },
  {
   "cell_type": "markdown",
   "metadata": {},
   "source": [
    "# 将权重初始化设为0"
   ]
  },
  {
   "cell_type": "code",
   "execution_count": 62,
   "metadata": {},
   "outputs": [
    {
     "name": "stdout",
     "output_type": "stream",
     "text": [
      "Epoch 1/3\n",
      "1/1 [==============================] - 0s 371ms/sample - loss: 0.2500 - acc: 1.0000\n",
      "Epoch 2/3\n",
      "1/1 [==============================] - 0s 2ms/sample - loss: 0.2495 - acc: 1.0000\n",
      "Epoch 3/3\n",
      "1/1 [==============================] - 0s 3ms/sample - loss: 0.2491 - acc: 1.0000\n"
     ]
    },
    {
     "data": {
      "text/plain": [
       "<tensorflow.python.keras.callbacks.History at 0x27c2cc49668>"
      ]
     },
     "execution_count": 62,
     "metadata": {},
     "output_type": "execute_result"
    }
   ],
   "source": [
    "from tensorflow.keras.layers import Dense,Activation\n",
    "from tensorflow.keras.models import Sequential\n",
    "from tensorflow.keras.optimizers import SGD\n",
    "from tensorflow.keras.initializers import constant,zeros\n",
    "import numpy as np\n",
    "\n",
    "n_inputs = 2\n",
    "n_hiddens = 2\n",
    "n_outputs = 2\n",
    "\n",
    "x = np.array([1,1]).reshape(1,2)\n",
    "y = np.array([1,1]).reshape(1,2)\n",
    "model = Sequential()\n",
    "model.add(Dense(n_hiddens,kernel_initializer=zeros()))\n",
    "model.add(Activation('sigmoid'))\n",
    "model.add(Dense(n_outputs,kernel_initializer=zeros()))\n",
    "model.add(Activation('sigmoid'))\n",
    "\n",
    "model.compile(optimizer=SGD(),loss='mean_squared_error',metrics=['accuracy'])\n",
    "model.fit(x,y,verbose=1,epochs=3)"
   ]
  },
  {
   "cell_type": "code",
   "execution_count": 63,
   "metadata": {},
   "outputs": [
    {
     "name": "stdout",
     "output_type": "stream",
     "text": [
      "weight: [array([[1.1696757e-06, 1.1696757e-06],\n",
      "       [1.1696757e-06, 1.1696757e-06]], dtype=float32), array([1.1696757e-06, 1.1696757e-06], dtype=float32)]\n",
      "weight: []\n",
      "weight: [array([[0.00187324, 0.00187324],\n",
      "       [0.00187324, 0.00187324]], dtype=float32), array([0.00374648, 0.00374648], dtype=float32)]\n",
      "weight: []\n"
     ]
    }
   ],
   "source": [
    "for layer in model.layers:\n",
    "    print('weight:',layer.get_weights())"
   ]
  }
 ],
 "metadata": {
  "kernelspec": {
   "display_name": "Python 3",
   "language": "python",
   "name": "python3"
  },
  "language_info": {
   "codemirror_mode": {
    "name": "ipython",
    "version": 3
   },
   "file_extension": ".py",
   "mimetype": "text/x-python",
   "name": "python",
   "nbconvert_exporter": "python",
   "pygments_lexer": "ipython3",
   "version": "3.7.1"
  },
  "toc": {
   "base_numbering": 1,
   "nav_menu": {},
   "number_sections": true,
   "sideBar": true,
   "skip_h1_title": false,
   "title_cell": "Table of Contents",
   "title_sidebar": "Contents",
   "toc_cell": false,
   "toc_position": {},
   "toc_section_display": true,
   "toc_window_display": false
  }
 },
 "nbformat": 4,
 "nbformat_minor": 2
}
