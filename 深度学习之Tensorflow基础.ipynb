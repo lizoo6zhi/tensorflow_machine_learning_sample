{
 "cells": [
  {
   "cell_type": "markdown",
   "metadata": {},
   "source": [
    "# TensorFlow简介"
   ]
  },
  {
   "cell_type": "markdown",
   "metadata": {},
   "source": [
    "TensorFlow是一个用于数值计算的强大开源软件库，非常适合大型机器学习。TensorFlow从2015年11月宣布开源的时候，深度学习领域已经存在众多流行的开源库(Caffe、Deeplearning4j、H2O、MXNet等),，不过，TensorFLow凭借自己清晰的设计、扩展性、灵活性和完善的文档很快排在了各个开源库的顶端。TensorFLow库的亮点有：\n",
    "- (1)可以允许在Windows、Linux、macOS和移动设备上，包括IOS和Android\n",
    "- (2)它提供了一个非常简单的名叫TF.Learn(tensorflow.contrib.learn)的Python API来兼容sklearn\n",
    "- (3)它提供了另一个叫做TF_Slim(tensorflow.contrib.slim)的简单的API来简化神经网络的构建、训练和评估\n",
    "- (4)在Tensorflow之上，独立构建了一些高级的API，比如Keras和Pretty Tensor\n",
    "- (5)它的Python API提供了很多灵活的方法(代价是很高的复杂性)来创建所有类型的计算，包括所有你能想到的神经网络架构\n",
    "- (6)它包含了很多非常高效的、用C++实现的机器学习操作，特别是用来构建神经网络的操作。另外，通过它的API，还可以用C++来实现自己的高性能操作\n",
    "- (7)它为搜索最小化成本函数的参数提供了很多高度优化的节点。TensorFlow会自动计算你定义的成本函数的梯度，所以用起来会非常容易，这称为自动微分(autodiff)\n",
    "- (8)它还提供了一个非常强大的叫做TensorBoard的可视化工具，可以用来浏览计算图，查看学习曲线等\n",
    "- (9)Google还启动了一个运行TensorFlow计算图的云服务"
   ]
  },
  {
   "cell_type": "markdown",
   "metadata": {},
   "source": [
    "# 常量"
   ]
  },
  {
   "cell_type": "markdown",
   "metadata": {},
   "source": [
    "tf.constant(value,dtype=None,shape=None,name='Const',verify_shale=False)"
   ]
  },
  {
   "cell_type": "code",
   "execution_count": 6,
   "metadata": {},
   "outputs": [
    {
     "name": "stdout",
     "output_type": "stream",
     "text": [
      "a: 1\n",
      "b: [2 3 4]\n",
      "c: [[3 3]\n",
      " [3 3]]\n"
     ]
    }
   ],
   "source": [
    "import tensorflow as tf\n",
    "a = tf.constant(1,shape=[],name='a')\n",
    "b = tf.constant((2,3,4),shape=[3],name = 'b')\n",
    "c = tf.constant(3,shape=[2,2],name='c')\n",
    "sess = tf.Session()\n",
    "result = sess.run([a,b,c])\n",
    "print('a:',result[0])\n",
    "print('b:',result[1])\n",
    "print('c:',result[2])"
   ]
  },
  {
   "cell_type": "markdown",
   "metadata": {},
   "source": [
    "# 变量"
   ]
  },
  {
   "cell_type": "markdown",
   "metadata": {},
   "source": [
    "tensorflow中的变量在使用前需要进行初始化，在模型训练中或训练完成后可以保存或恢复这些变量\n",
    "\n",
    "tf.Variable(initial_value=None,trainabel=True,colletions=None,validate_shape=True,caching_device=None,\n",
    "            name=None,variable_def=None,dtype=None,excepted_shape=None,import_scope=None,constraint=None)\n",
    "            \n",
    "trainable:决定变量是否可以被优化器类修改"
   ]
  },
  {
   "cell_type": "code",
   "execution_count": 7,
   "metadata": {},
   "outputs": [],
   "source": [
    "import tensorflow as tf\n",
    "weights = tf.Variable(tf.random_normal([784,200],stddev=0.35),name='weights')\n",
    "biases = tf.Variable(tf.zeros([200]),name='biases')"
   ]
  },
  {
   "cell_type": "markdown",
   "metadata": {},
   "source": [
    "## 初始化变量"
   ]
  },
  {
   "cell_type": "markdown",
   "metadata": {},
   "source": [
    "实际上，在变量初始化过程中做了很多的操作，比如初始化空间、赋初值(等价于tf.assign)，并把Variable添加到Graph中等，注意，在计算前需要初始化所有的Variable,一般会在定义graph时定义global_variables_initializer,它会在session运算时初始化所有变量，注意，这个操作不会立刻做初始化，它只是在图中创建了一个节点，这个节点会在会话执行时初始化所有变量\n",
    "\n",
    "直接调用global_variables_initializer会初始化的variable,如果想初始化部分variable,可以调用tf.variables_initializer"
   ]
  },
  {
   "cell_type": "code",
   "execution_count": 8,
   "metadata": {},
   "outputs": [],
   "source": [
    "init_op = tf.global_variables_initializer()\n",
    "sess = tf.Session()\n",
    "sess.run(init_op)"
   ]
  },
  {
   "cell_type": "markdown",
   "metadata": {},
   "source": [
    "## 在执行期，如何为一个变量设任意的值"
   ]
  },
  {
   "cell_type": "markdown",
   "metadata": {},
   "source": [
    "可以在构造一个图时知道变量初始值，它会在后边的执行期运行变量初始化器的时候被初始化，如果想在执行期修改变量的值，那么最简单的方式是使用tf.assign函数创建一个赋值节点(在图的构造期)，将变量和一个占位符传入作为，这样，就可以在执行期运行复制操作来为变量传入新值"
   ]
  },
  {
   "cell_type": "code",
   "execution_count": 11,
   "metadata": {},
   "outputs": [
    {
     "name": "stdout",
     "output_type": "stream",
     "text": [
      "5.0\n"
     ]
    }
   ],
   "source": [
    "import tensorflow as tf\n",
    "\n",
    "x = tf.Variable(tf.random_uniform(shape=(),minval=0.0,maxval=1.0))\n",
    "x_new_val = tf.placeholder(shape=(),dtype=tf.float32)\n",
    "x_assign = tf.assign(x,x_new_val)\n",
    "\n",
    "init = tf.global_variables_initializer()\n",
    "with tf.Session() as sess:\n",
    "    sess.run(init)\n",
    "    x_assign.eval(feed_dict={x_new_val: 5.0})\n",
    "    print(x.eval())"
   ]
  },
  {
   "cell_type": "markdown",
   "metadata": {},
   "source": [
    "# 占位符"
   ]
  },
  {
   "cell_type": "markdown",
   "metadata": {},
   "source": [
    "tf.placeholder(dtype,shape=None,name=None)"
   ]
  },
  {
   "cell_type": "code",
   "execution_count": 9,
   "metadata": {},
   "outputs": [
    {
     "name": "stdout",
     "output_type": "stream",
     "text": [
      "y: [[0.7448921  0.24302486]\n",
      " [0.23352031 0.6745004 ]\n",
      " [0.49287876 0.51692814]]\n",
      "z: [[0.72671276 0.46566087]\n",
      " [0.87231016 0.763582  ]]\n"
     ]
    }
   ],
   "source": [
    "import tensorflow as tf\n",
    "import numpy as np\n",
    "\n",
    "g_1 = tf.Graph()\n",
    "with g_1.as_default():\n",
    "    x = tf.placeholder(dtype=tf.float32,shape=(2,3))\n",
    "    y = tf.reshape(x,(3,2))\n",
    "    z = tf.matmul(x,y)\n",
    "    \n",
    "with tf.Session(graph = g_1) as sess:\n",
    "    rand_array_x = np.random.rand(2,3)\n",
    "    result = sess.run([y,z],feed_dict={x:rand_array_x})\n",
    "    print('y:',result[0])\n",
    "    print('z:',result[1])"
   ]
  },
  {
   "cell_type": "markdown",
   "metadata": {},
   "source": [
    "# 管理图"
   ]
  },
  {
   "cell_type": "markdown",
   "metadata": {},
   "source": [
    "你创建的所有节点都会自动添加到默认图上:"
   ]
  },
  {
   "cell_type": "code",
   "execution_count": 3,
   "metadata": {},
   "outputs": [
    {
     "name": "stdout",
     "output_type": "stream",
     "text": [
      "True\n"
     ]
    }
   ],
   "source": [
    "import tensorflow as tf\n",
    "\n",
    "x = tf.Variable(1,name='X')\n",
    "print(x.graph is tf.get_default_graph())"
   ]
  },
  {
   "cell_type": "markdown",
   "metadata": {},
   "source": [
    "大部分情况下，这都不是问题，不过有时候你可能想要管理多个互不依赖的图。可以创建一个新的图，然后用with块临时将它设置为默认图:"
   ]
  },
  {
   "cell_type": "code",
   "execution_count": 4,
   "metadata": {},
   "outputs": [
    {
     "name": "stdout",
     "output_type": "stream",
     "text": [
      "True\n",
      "False\n"
     ]
    }
   ],
   "source": [
    "graph = tf.Graph()\n",
    "with graph.as_default():\n",
    "    x2 = tf.Variable(2,name='x2')\n",
    "\n",
    "print(x2.graph is graph)\n",
    "print(x2.graph is tf.get_default_graph())"
   ]
  },
  {
   "cell_type": "markdown",
   "metadata": {},
   "source": [
    "<b>注:</b>在Jupyter中，做实验时经常会执行通一条命令，这样可能会在同一个图上添加很多重复的节点。一种做法是重启Jupyter内核，更方便的做法是通过tf.reset_default_graph()来重置默认图"
   ]
  },
  {
   "cell_type": "markdown",
   "metadata": {},
   "source": [
    "# 节点值得生命周期"
   ]
  },
  {
   "cell_type": "code",
   "execution_count": 6,
   "metadata": {},
   "outputs": [
    {
     "name": "stdout",
     "output_type": "stream",
     "text": [
      "10\n",
      "15\n"
     ]
    }
   ],
   "source": [
    "w = tf.constant(3)\n",
    "x = w + 2\n",
    "y = x + 5\n",
    "z = x * 3\n",
    "\n",
    "with tf.Session() as sess:\n",
    "    print(y.eval())\n",
    "    print(z.eval())"
   ]
  },
  {
   "cell_type": "markdown",
   "metadata": {},
   "source": [
    "首先，这段代码定义了一个非常简单的计算图，然后，它启动了一个会话，并开始执行计算图，求y时Tensorflow会自动检测y依赖w，因为x依赖于w，所以它会先求w,然后是y,并返回y的值，最后，这段代码执行到对z求值得时候，tensorflow发现需要先求w和x,需要注意<b>tensorflow不会复用上一步求值得w和x的结果，简而言之，w和x的值会计算两次</b>\n",
    "\n",
    "在图的每次执行间，所有节点值都会被丢弃，但是变量的值不会，因为变量的值是由会话维护的，变量的生命周期从初始化的执行开始，到关闭会话才结束"
   ]
  },
  {
   "cell_type": "markdown",
   "metadata": {},
   "source": [
    "为了不重复计算，可以采用下列方式进行优化"
   ]
  },
  {
   "cell_type": "code",
   "execution_count": 7,
   "metadata": {},
   "outputs": [
    {
     "name": "stdout",
     "output_type": "stream",
     "text": [
      "5 10\n"
     ]
    }
   ],
   "source": [
    "with tf.Session() as sess:\n",
    "    x_val,y_val = sess.run([x,y])\n",
    "    print(x_val,y_val)"
   ]
  },
  {
   "cell_type": "markdown",
   "metadata": {},
   "source": [
    "# 使用TensorBoard来可视化图和训练曲线"
   ]
  },
  {
   "cell_type": "markdown",
   "metadata": {},
   "source": [
    "loss_summary = tf.summary.scalar('log_loss',loss)\n",
    "\n",
    "logdir = log_dir(\"logreg\")\n",
    "\n",
    "file_writer = tf.summary.FileWriter(logdir, tf.get_default_graph())\n",
    "\n",
    "file_writer.add_summary(summary_str, epoch)\n",
    "\n",
    "#打开Anaconda Prompt输入命令 tensorboard --logdor logdir #注意logdir不需要引号"
   ]
  },
  {
   "cell_type": "markdown",
   "metadata": {},
   "source": [
    "# 保存和恢复模型"
   ]
  },
  {
   "cell_type": "markdown",
   "metadata": {},
   "source": [
    "保存模型由三个文件组成model.data、model.index、mode.meta\n",
    "\n",
    "saver = tf.train.Saver()\n",
    "\n",
    "模型保存\n",
    "\n",
    "saver.save(sess,'./tmp/model/',global_step=100)\n",
    "\n",
    "模型恢复\n",
    "\n",
    "saver = tf.train.import_meta_graph('./temp/model/-100.meta')\n",
    "\n",
    "saver.restore(sess,tf.train.latest_checkpoint('./temp/model/'))"
   ]
  },
  {
   "cell_type": "markdown",
   "metadata": {},
   "source": [
    "# 使用梯度下降实现线性回归"
   ]
  },
  {
   "cell_type": "code",
   "execution_count": 11,
   "metadata": {},
   "outputs": [
    {
     "name": "stdout",
     "output_type": "stream",
     "text": [
      "dict_keys(['data', 'target', 'feature_names', 'DESCR'])\n",
      "['MedInc', 'HouseAge', 'AveRooms', 'AveBedrms', 'Population', 'AveOccup', 'Latitude', 'Longitude']\n",
      "(20640, 8) (20640,)\n",
      "<class 'pandas.core.frame.DataFrame'>\n",
      "RangeIndex: 20640 entries, 0 to 20639\n",
      "Data columns (total 8 columns):\n",
      "0    20640 non-null float64\n",
      "1    20640 non-null float64\n",
      "2    20640 non-null float64\n",
      "3    20640 non-null float64\n",
      "4    20640 non-null float64\n",
      "5    20640 non-null float64\n",
      "6    20640 non-null float64\n",
      "7    20640 non-null float64\n",
      "dtypes: float64(8)\n",
      "memory usage: 1.3 MB\n",
      "None\n",
      "                  0             1             2             3             4  \\\n",
      "count  20640.000000  20640.000000  20640.000000  20640.000000  20640.000000   \n",
      "mean       3.870671     28.639486      5.429000      1.096675   1425.476744   \n",
      "std        1.899822     12.585558      2.474173      0.473911   1132.462122   \n",
      "min        0.499900      1.000000      0.846154      0.333333      3.000000   \n",
      "25%        2.563400     18.000000      4.440716      1.006079    787.000000   \n",
      "50%        3.534800     29.000000      5.229129      1.048780   1166.000000   \n",
      "75%        4.743250     37.000000      6.052381      1.099526   1725.000000   \n",
      "max       15.000100     52.000000    141.909091     34.066667  35682.000000   \n",
      "\n",
      "                  5             6             7  \n",
      "count  20640.000000  20640.000000  20640.000000  \n",
      "mean       3.070655     35.631861   -119.569704  \n",
      "std       10.386050      2.135952      2.003532  \n",
      "min        0.692308     32.540000   -124.350000  \n",
      "25%        2.429741     33.930000   -121.800000  \n",
      "50%        2.818116     34.260000   -118.490000  \n",
      "75%        3.282261     37.710000   -118.010000  \n",
      "max     1243.333333     41.950000   -114.310000  \n"
     ]
    }
   ],
   "source": [
    "from sklearn.datasets import fetch_california_housing\n",
    "import pandas as pd\n",
    "housing = fetch_california_housing()\n",
    "#认识数据\n",
    "print(housing.keys())\n",
    "print(housing['feature_names'])\n",
    "x,y = housing['data'],housing['target']\n",
    "print(x.shape,y.shape)\n",
    "print(pd.DataFrame(x).info())\n",
    "print(pd.DataFrame(x).describe())"
   ]
  },
  {
   "cell_type": "code",
   "execution_count": 12,
   "metadata": {},
   "outputs": [
    {
     "name": "stdout",
     "output_type": "stream",
     "text": [
      "epoch:0--mse:7.973654747009277\n",
      "epoch:100--mse:4.84791898727417\n",
      "epoch:200--mse:4.818875789642334\n",
      "epoch:300--mse:4.814178943634033\n",
      "epoch:400--mse:4.811120510101318\n",
      "epoch:500--mse:4.808927536010742\n",
      "epoch:600--mse:4.807346820831299\n",
      "epoch:700--mse:4.806206226348877\n",
      "epoch:800--mse:4.805384159088135\n",
      "epoch:900--mse:4.804790496826172\n",
      "theta: [[ 8.8978744e-01]\n",
      " [ 8.1084365e-01]\n",
      " [ 1.2836684e-01]\n",
      " [-2.0548517e-01]\n",
      " [ 2.4524277e-01]\n",
      " [-7.6121237e-04]\n",
      " [-3.9739359e-02]\n",
      " [-8.4742779e-01]\n",
      " [-8.1470937e-01]]\n"
     ]
    }
   ],
   "source": [
    "#将数据进行StandardScaler,并使用梯度下降进行线性回归\n",
    "from sklearn.preprocessing import StandardScaler\n",
    "import tensorflow as tf\n",
    "import numpy as np\n",
    "\n",
    "learning_rate = 0.01\n",
    "epochs = 1000\n",
    "\n",
    "standardScaler = StandardScaler()\n",
    "m,n = x.shape\n",
    "x_b = np.c_[np.ones((m,1)),x]\n",
    "x_b_scaler = standardScaler.fit_transform(x_b)\n",
    "#print(pd.DataFrame(x_b_scaler).describe())\n",
    "features = tf.constant(x_b_scaler,dtype=tf.float32,name='features')\n",
    "labels = tf.constant(y.reshape(-1,1),dtype=tf.float32,name='labels')\n",
    "theta = tf.Variable(tf.random_uniform([n+1,1],-1.0,1.0),name='theta')\n",
    "y_pred = tf.matmul(features,theta,name='predict')\n",
    "error = y_pred - labels\n",
    "mse = tf.reduce_mean(tf.square(error),name='mse')\n",
    "gradient = 2/m * tf.matmul(tf.transpose(features),error)\n",
    "train_op = tf.assign(theta,theta - learning_rate * gradient)\n",
    "\n",
    "with tf.Session() as sess:\n",
    "    init = tf.global_variables_initializer()\n",
    "    sess.run(init)\n",
    "    for epoch in range(epochs):\n",
    "        if epoch % 100 == 0:\n",
    "            print(\"epoch:{}--mse:{}\".format(epoch,sess.run(mse)))\n",
    "        sess.run(train_op)\n",
    "    theta = sess.run(theta)\n",
    "    print('theta:',theta)"
   ]
  },
  {
   "cell_type": "markdown",
   "metadata": {},
   "source": [
    "# 习题：使用小批量梯度下降法来实现逻辑回归，用月亮数据来训练和评估"
   ]
  },
  {
   "cell_type": "code",
   "execution_count": 19,
   "metadata": {},
   "outputs": [
    {
     "name": "stdout",
     "output_type": "stream",
     "text": [
      "y_value_counts:\n",
      " 1    500\n",
      "0    500\n",
      "dtype: int64\n"
     ]
    },
    {
     "data": {
      "image/png": "[encoded data removed]",
      "text/plain": [
       "<Figure size 432x288 with 1 Axes>"
      ]
     },
     "metadata": {
      "needs_background": "light"
     },
     "output_type": "display_data"
    }
   ],
   "source": [
    "from sklearn.datasets import make_moons\n",
    "import matplotlib.pyplot as plt\n",
    "import pandas as pd\n",
    "\n",
    "#加载并分析数据集\n",
    "m = 1000\n",
    "x,y = make_moons(m,noise=0.1,random_state=42)\n",
    "print('y_value_counts:\\n',pd.Series(y).value_counts())\n",
    "plt.plot(x[y==1,0],x[y==1,1],'go',label='Positive')\n",
    "plt.plot(x[y==0,0],x[y==0,1],'r^',label='Negative')\n",
    "plt.legend()\n",
    "plt.show()"
   ]
  },
  {
   "cell_type": "code",
   "execution_count": 14,
   "metadata": {},
   "outputs": [
    {
     "name": "stdout",
     "output_type": "stream",
     "text": [
      "800 200\n"
     ]
    }
   ],
   "source": [
    "#拆分数据集为训练数据集和测试数据集\n",
    "from sklearn.model_selection import train_test_split\n",
    "import numpy as np\n",
    "\n",
    "m,n = x.shape\n",
    "x_b = np.c_[np.ones((m,1)),x]\n",
    "y = y.reshape(-1,1)\n",
    "x_train,x_test,y_train,y_test = train_test_split(x_b,y,test_size = 0.2)\n",
    "print(len(x_train),len(x_test))"
   ]
  },
  {
   "cell_type": "code",
   "execution_count": 15,
   "metadata": {},
   "outputs": [],
   "source": [
    "#创建小批量数据集\n",
    "def random_batch(x_train,y_train,batch_size):\n",
    "    rnd_index = np.random.randint(0,len(x_train),batch_size)\n",
    "    x_batch = x_train[rnd_index]\n",
    "    y_batch = y_train[rnd_index]\n",
    "    return x_batch,y_batch"
   ]
  },
  {
   "cell_type": "code",
   "execution_count": 16,
   "metadata": {},
   "outputs": [
    {
     "name": "stdout",
     "output_type": "stream",
     "text": [
      "epoch:0,loss:0.9050483703613281\n",
      "epoch:50,loss:0.4320598244667053\n",
      "epoch:100,loss:0.35286587476730347\n",
      "epoch:150,loss:0.32066577672958374\n",
      "epoch:200,loss:0.30238354206085205\n",
      "epoch:250,loss:0.29052868485450745\n",
      "epoch:300,loss:0.2817750573158264\n",
      "epoch:350,loss:0.2754625380039215\n",
      "epoch:400,loss:0.27106961607933044\n",
      "epoch:450,loss:0.2673935294151306\n",
      "epoch:500,loss:0.26448526978492737\n",
      "epoch:550,loss:0.2623862028121948\n",
      "epoch:600,loss:0.2602671682834625\n",
      "epoch:650,loss:0.2587374746799469\n",
      "epoch:700,loss:0.25792568922042847\n",
      "epoch:750,loss:0.25662773847579956\n",
      "epoch:800,loss:0.25593602657318115\n",
      "epoch:850,loss:0.25506362318992615\n",
      "epoch:900,loss:0.25471794605255127\n",
      "epoch:950,loss:0.25397127866744995\n"
     ]
    }
   ],
   "source": [
    "import tensorflow as tf\n",
    "X = tf.placeholder(tf.float32,shape=(None,n+1),name='X')\n",
    "Y = tf.placeholder(tf.float32,shape=(None,1),name='Y')\n",
    "theta = tf.Variable(tf.random_uniform([n+1,1],-1.0,1.0,seed=42),name='theta')\n",
    "logits = tf.matmul(X,theta,name='logits')\n",
    "y_pred = 1 / (1+tf.exp(-logits))\n",
    "epsilon = 1e-7\n",
    "loss = -tf.reduce_mean(Y*tf.log(y_pred+epsilon)+(1-Y)*tf.log(1-y_pred+epsilon))\n",
    "#loss = tf.losses.log_loss(Y,y_pred)\n",
    "learning_rate = 0.01\n",
    "optimizer = tf.train.GradientDescentOptimizer(learning_rate=learning_rate)\n",
    "train_op = optimizer.minimize(loss)\n",
    "\n",
    "epochs = 1000\n",
    "batch_size = 50\n",
    "init = tf.global_variables_initializer()\n",
    "nBatchs = len(x_train) // batch_size\n",
    "with tf.Session() as sess:\n",
    "    sess.run(init)\n",
    "    for epoch in range(epochs):\n",
    "        for index in range(nBatchs):\n",
    "            x_batch,y_batch = random_batch(x_train,y_train,batch_size)\n",
    "            sess.run(train_op,feed_dict={X:x_batch,Y:y_batch})\n",
    "        loss_val = loss.eval(feed_dict={X:x_test,Y:y_test})\n",
    "        if epoch % 50 == 0:\n",
    "            print('epoch:{},loss:{}'.format(epoch,loss_val))\n",
    "    y_pred_val = y_pred.eval(feed_dict={X:x_test,Y:y_test})"
   ]
  },
  {
   "cell_type": "code",
   "execution_count": 17,
   "metadata": {},
   "outputs": [
    {
     "name": "stdout",
     "output_type": "stream",
     "text": [
      "accuracy_score: 0.88\n",
      "precision_score: 0.865979381443299\n",
      "recall_score: 0.8842105263157894\n"
     ]
    }
   ],
   "source": [
    "#评估模型\n",
    "from sklearn.metrics import accuracy_score,precision_score,recall_score\n",
    "print('accuracy_score:',accuracy_score(y_test,y_pred_val>=0.5))\n",
    "print('precision_score:',precision_score(y_test,y_pred_val>=0.5))\n",
    "print('recall_score:',recall_score(y_test,y_pred_val>=0.5))"
   ]
  },
  {
   "cell_type": "code",
   "execution_count": 18,
   "metadata": {},
   "outputs": [
    {
     "data": {
      "image/png": "[encoded data removed]",
      "text/plain": [
       "<Figure size 432x288 with 1 Axes>"
      ]
     },
     "metadata": {
      "needs_background": "light"
     },
     "output_type": "display_data"
    }
   ],
   "source": [
    "y_test_pred = y_pred_val >=0.5\n",
    "y_pred_idx = y_test_pred.reshape(-1) # a 1D array rather than a column vector\n",
    "plt.plot(x_test[y_pred_idx, 1], x_test[y_pred_idx, 2], 'go', label=\"Positive\")\n",
    "plt.plot(x_test[~y_pred_idx, 1], x_test[~y_pred_idx, 2], 'r^', label=\"Negative\")\n",
    "plt.legend()\n",
    "plt.show()"
   ]
  },
  {
   "cell_type": "markdown",
   "metadata": {},
   "source": [
    "# 对上面的习题进行标准化"
   ]
  },
  {
   "cell_type": "code",
   "execution_count": 20,
   "metadata": {},
   "outputs": [],
   "source": [
    "from sklearn.datasets import make_moons\n",
    "import tensorflow as tf\n",
    "m = 1000\n",
    "x,y = make_moons(m,noise=0.1,random_state=42)\n",
    "tf.reset_default_graph()"
   ]
  },
  {
   "cell_type": "code",
   "execution_count": 21,
   "metadata": {},
   "outputs": [
    {
     "name": "stdout",
     "output_type": "stream",
     "text": [
      "800 200\n"
     ]
    }
   ],
   "source": [
    "#拆分数据集为训练数据集和测试数据集\n",
    "from sklearn.model_selection import train_test_split\n",
    "import numpy as np\n",
    "\n",
    "m,n = x.shape\n",
    "x_b = np.c_[np.ones((m,1)),x]\n",
    "y = y.reshape(-1,1)\n",
    "x_train,x_test,y_train,y_test = train_test_split(x_b,y,test_size = 0.2)\n",
    "print(len(x_train),len(x_test))"
   ]
  },
  {
   "cell_type": "code",
   "execution_count": 22,
   "metadata": {},
   "outputs": [],
   "source": [
    "#创建小批量数据集\n",
    "def random_batch(x_train,y_train,batch_size):\n",
    "    rnd_index = np.random.randint(0,len(x_train),batch_size)\n",
    "    x_batch = x_train[rnd_index]\n",
    "    y_batch = y_train[rnd_index]\n",
    "    return x_batch,y_batch"
   ]
  },
  {
   "cell_type": "code",
   "execution_count": 23,
   "metadata": {},
   "outputs": [],
   "source": [
    "#定义标准化逻辑回归函数\n",
    "def logistic_regression(X,Y,initializer=None,seed=42,learning_rate=0.01):\n",
    "    with tf.name_scope('logistic_regression'):  #使用命名作用域\n",
    "        with tf.name_scope('model'):\n",
    "            if initializer is None:\n",
    "                initializer = tf.random.uniform([n+1,1],-1.0,1.0,seed = seed)\n",
    "            theta = tf.Variable(initializer,name='theta')\n",
    "            logits = tf.matmul(X,theta,name='logits')\n",
    "            y_proba = 1 / (1+tf.exp(-logits))\n",
    "        with tf.name_scope('train'):\n",
    "            loss = tf.losses.log_loss(Y,y_proba,scope='loss')\n",
    "            optimizer = tf.train.GradientDescentOptimizer(learning_rate = learning_rate)\n",
    "            train_op = optimizer.minimize(loss)\n",
    "            loss_summary = tf.summary.scalar('log_loss',loss)\n",
    "        with tf.name_scope('init'):\n",
    "            init = tf.global_variables_initializer()\n",
    "        return y_proba,loss,train_op,loss_summary,init"
   ]
  },
  {
   "cell_type": "code",
   "execution_count": 25,
   "metadata": {},
   "outputs": [],
   "source": [
    "#创建函数图表\n",
    "X = tf.placeholder(tf.float32,shape=(None,n+1),name='X')\n",
    "Y = tf.placeholder(tf.float32,shape=(None,1),name='Y')\n",
    "\n",
    "y_proba,loss,train_op,loss_summary,init = logistic_regression(X,Y)"
   ]
  },
  {
   "cell_type": "code",
   "execution_count": 26,
   "metadata": {},
   "outputs": [],
   "source": [
    "from datetime import datetime\n",
    "\n",
    "def log_dir(prefix=\"\"):\n",
    "    now = datetime.utcnow().strftime(\"%Y%m%d%H%M%S\")\n",
    "    root_logdir = \"D:\\\\pystu\\\\tensorflow_machine_learning_sample\\\\temp\\\\\"\n",
    "    if prefix:\n",
    "        prefix += \"-\"\n",
    "    name = prefix + \"run-\" + now\n",
    "    return \"{}\\\\{}\\\\\".format(root_logdir, name)"
   ]
  },
  {
   "cell_type": "code",
   "execution_count": 27,
   "metadata": {},
   "outputs": [
    {
     "name": "stdout",
     "output_type": "stream",
     "text": [
      "epoch:0,loss:0.9038130044937134\n",
      "epoch:50,loss:0.4526045322418213\n",
      "epoch:100,loss:0.3838544487953186\n",
      "epoch:150,loss:0.35708725452423096\n",
      "epoch:200,loss:0.34126830101013184\n",
      "epoch:250,loss:0.3308771550655365\n",
      "epoch:300,loss:0.3232515752315521\n",
      "epoch:350,loss:0.3181903064250946\n",
      "epoch:400,loss:0.31383442878723145\n",
      "epoch:450,loss:0.3107786178588867\n",
      "epoch:500,loss:0.30848124623298645\n",
      "epoch:550,loss:0.3059858977794647\n",
      "epoch:600,loss:0.3042560815811157\n",
      "epoch:650,loss:0.3029485046863556\n",
      "epoch:700,loss:0.3019813895225525\n",
      "epoch:750,loss:0.30129897594451904\n",
      "epoch:800,loss:0.300251841545105\n",
      "epoch:850,loss:0.2993678152561188\n",
      "epoch:900,loss:0.2990092933177948\n",
      "epoch:950,loss:0.2987637221813202\n"
     ]
    }
   ],
   "source": [
    "#创建会话\n",
    "epochs = 1000\n",
    "batch_size = 50\n",
    "nbatches = len(x_train) // batch_size\n",
    "\n",
    "logdir = log_dir(\"logreg\")\n",
    "file_writer = tf.summary.FileWriter(logdir, tf.get_default_graph())\n",
    "                                    \n",
    "with tf.Session() as sess:\n",
    "    sess.run(init)\n",
    "        \n",
    "    for epoch in range(epochs):\n",
    "        for batch in range(nbatches):\n",
    "            x_batch,y_batch = random_batch(x_train,y_train,batch_size)\n",
    "            sess.run(train_op,feed_dict={X:x_batch,Y:y_batch})\n",
    "        loss_val,summary_str = sess.run([loss,loss_summary],feed_dict={X:x_test,Y:y_test})\n",
    "        file_writer.add_summary(summary_str, epoch)\n",
    "        if epoch % 50 == 0:\n",
    "            print('epoch:{},loss:{}'.format(epoch,loss_val))\n",
    "    y_test_pred = sess.run(y_proba,feed_dict={X:x_test,Y:y_test})"
   ]
  }
 ],
 "metadata": {
  "kernelspec": {
   "display_name": "Python 3",
   "language": "python",
   "name": "python3"
  },
  "language_info": {
   "codemirror_mode": {
    "name": "ipython",
    "version": 3
   },
   "file_extension": ".py",
   "mimetype": "text/x-python",
   "name": "python",
   "nbconvert_exporter": "python",
   "pygments_lexer": "ipython3",
   "version": "3.6.7"
  },
  "toc": {
   "base_numbering": 1,
   "nav_menu": {},
   "number_sections": true,
   "sideBar": true,
   "skip_h1_title": false,
   "title_cell": "Table of Contents",
   "title_sidebar": "Contents",
   "toc_cell": false,
   "toc_position": {},
   "toc_section_display": true,
   "toc_window_display": true
  }
 },
 "nbformat": 4,
 "nbformat_minor": 2
}
