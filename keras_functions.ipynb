{
 "cells": [
  {
   "cell_type": "markdown",
   "metadata": {},
   "source": [
    "# keras.model方法总结"
   ]
  },
  {
   "cell_type": "markdown",
   "metadata": {},
   "source": [
    "![](./image/model.png)"
   ]
  },
  {
   "cell_type": "markdown",
   "metadata": {},
   "source": [
    "## compile"
   ]
  },
  {
   "cell_type": "markdown",
   "metadata": {},
   "source": [
    "    函数原型：\n",
    "    def compile(self,\n",
    "              optimizer,\n",
    "              loss=None,\n",
    "              metrics=None,\n",
    "              loss_weights=None,\n",
    "              sample_weight_mode=None,\n",
    "              weighted_metrics=None,\n",
    "              target_tensors=None,\n",
    "              distribute=None,\n",
    "              **kwargs):\n",
    "\n",
    "    功能：编译模型，以供训练\n",
    "    参数：\n",
    "    optimizer:优化器，参考optimizers.py,使用频率最高优化器optimizers.Adam\n",
    "    loss:损失函数，参考losses.py,常用损失函数MeanSquaredError;BinaryCrossentropy;CategoricalCrossentropy\n",
    "    metrics:列表，包含评估模型再训练和测试时的性能指标，例如metrics=['accuracy'],如果要在多输出模型中为不同的输出指定不同的指标，可以为该参数传递一个自动，metrics={'output_a':'accuracy'}\n",
    "    loss_weights:对损失贡献进行加权不同的模型输出，可以是列表和字典\n",
    "    sample_weight_mode:\n",
    "    weighted_metrics:在训练和测试过程中，列表中的metrics将由sample_weight或clss_weight计算并赋权\n",
    "    traget_tensors：目标张量\n",
    "    tips:如果只是载入模型并利用其predict，可以不使用compile,在keras中，compile主要完成损失函数和优化器的一些配置，predict会在内部进行符号函数的编译工作，通过调用_make_predict_function生成函数"
   ]
  },
  {
   "cell_type": "markdown",
   "metadata": {},
   "source": [
    "## fit"
   ]
  },
  {
   "cell_type": "markdown",
   "metadata": {},
   "source": [
    "    函数原型：\n",
    "    def fit(self,\n",
    "          x=None,\n",
    "          y=None,\n",
    "          batch_size=None,\n",
    "          epochs=1,\n",
    "          verbose=1,\n",
    "          callbacks=None,\n",
    "          validation_split=0.,\n",
    "          validation_data=None,\n",
    "          shuffle=True,\n",
    "          class_weight=None,\n",
    "          sample_weight=None,\n",
    "          initial_epoch=0,\n",
    "          steps_per_epoch=None,\n",
    "          validation_steps=None,\n",
    "          max_queue_size=10,\n",
    "          workers=1,\n",
    "          use_multiprocessing=False,\n",
    "          **kwargs):\n",
    "    功能：模型训练\n",
    "    参数：\n",
    "    x:输入数据\n",
    "    y:标签\n",
    "    batch_size:指定进行梯度下降时每个batch包含的样本数\n",
    "    epochs:迭代训练次数\n",
    "    verbose:日志显示，0为不输出，1为输出进度条记录，2为每个epoch输出一条记录\n",
    "    callbacks:list，其中的元素为keras.callbacks.Callback对象，这个list种的函数将会在训练过程种的适当时机被调用\n",
    "    validation_split:指定训练集中的部分数据作为验证集，验证集不参与训练，并在每个epoch后测试模型的指标(损失和精度等),数以validation_split应在shuffle之后，如果你的数据本身是有序的，需要手工打乱再指定validation_split，否则可能会出现验证样本不均匀\n",
    "    validation_data:设置验证数据集，若设置该参数将会覆盖validation_split\n",
    "    shuffle:是否再训练过程中每个epoch前随机打乱样本\n",
    "    class_weight:设置标签权重\n",
    "    sample_weight:\n",
    "    initial_epoch:设置初始epochs值\n",
    "    steps_per_eopch:设置eopchs的step\n",
    "    validation_steps:仅当steps_per_epoch被指定时有用，在验证集上的step总数\n",
    "    max_queue_size:\n",
    "    use_multiprocessing:\n",
    "    tips:fit函数返回一个History对象，参考callbacks.py"
   ]
  },
  {
   "cell_type": "markdown",
   "metadata": {},
   "source": [
    "## evaluate"
   ]
  },
  {
   "cell_type": "markdown",
   "metadata": {},
   "source": [
    "    函数原型：\n",
    "    def evaluate(self,\n",
    "               x=None,\n",
    "               y=None,\n",
    "               batch_size=None,\n",
    "               verbose=1,\n",
    "               sample_weight=None,\n",
    "               steps=None,\n",
    "               max_queue_size=10,\n",
    "               workers=1,\n",
    "               use_multiprocessing=False):\n",
    "    功能：对模型进行评估，返回误差和精度\n",
    "    参数：\n",
    "     x:输入数据\n",
    "    y:标签\n",
    "    batch_size:指定进行梯度下降时每个batch包含的样本数\n",
    "    verbose:日志显示，0为不输出，1为输出进度条记录，2为每个epoch输出一条记录"
   ]
  },
  {
   "cell_type": "markdown",
   "metadata": {},
   "source": [
    "## predict"
   ]
  },
  {
   "cell_type": "markdown",
   "metadata": {},
   "source": [
    "    函数原型：\n",
    "    def predict(self,\n",
    "              x,\n",
    "              batch_size=None,\n",
    "              verbose=0,\n",
    "              steps=None,\n",
    "              max_queue_size=10,\n",
    "              workers=1,\n",
    "              use_multiprocessing=False):"
   ]
  },
  {
   "cell_type": "markdown",
   "metadata": {},
   "source": [
    "## 其余函数"
   ]
  },
  {
   "cell_type": "markdown",
   "metadata": {},
   "source": [
    "    train_on_batch \n",
    "    test_on_batch\n",
    "    predict_on_batch\n",
    "    fit_generator\n",
    "    evaluate_generator\n",
    "    predict_generator"
   ]
  },
  {
   "cell_type": "markdown",
   "metadata": {},
   "source": [
    "# keras.Sequential方法总结"
   ]
  },
  {
   "cell_type": "markdown",
   "metadata": {},
   "source": [
    "## layers"
   ]
  },
  {
   "cell_type": "markdown",
   "metadata": {},
   "source": [
    "    函数原型：\n",
    "    def layers(self)\n",
    "    功能：返回该模型的所有layers信息，layers[:]"
   ]
  },
  {
   "cell_type": "markdown",
   "metadata": {},
   "source": [
    "## add"
   ]
  },
  {
   "cell_type": "markdown",
   "metadata": {},
   "source": [
    "    函数原型：\n",
    "    def add(self, layer)\n",
    "    功能：添加layer到模型中，关于layer信息参考keras.layers"
   ]
  },
  {
   "cell_type": "markdown",
   "metadata": {},
   "source": [
    "## pop"
   ]
  },
  {
   "cell_type": "markdown",
   "metadata": {},
   "source": [
    "    函数原型：\n",
    "    def pop(self)\n",
    "    函数功能：\n",
    "    移除模型的最后一层"
   ]
  },
  {
   "cell_type": "markdown",
   "metadata": {},
   "source": [
    "## build"
   ]
  },
  {
   "cell_type": "markdown",
   "metadata": {},
   "source": [
    "    函数原型：\n",
    "    def build(self, input_shape=None):\n",
    "    函数功能：\n",
    "    @base_layer.default\n",
    "    def build(self, input_shape=None):\n",
    "    if self._is_graph_network:\n",
    "      self._init_graph_network(self.inputs, self.outputs, name=self.name)\n",
    "    else:\n",
    "      if input_shape is None:\n",
    "        raise ValueError('You must provide an `input_shape` argument.')\n",
    "      input_shape = tuple(input_shape)\n",
    "      self._build_input_shape = input_shape\n",
    "      super(Sequential, self).build(input_shape)\n",
    "    self.built = True"
   ]
  },
  {
   "cell_type": "markdown",
   "metadata": {},
   "source": [
    "# Layers总结"
   ]
  },
  {
   "cell_type": "markdown",
   "metadata": {},
   "source": []
  }
 ],
 "metadata": {
  "kernelspec": {
   "display_name": "Python 3",
   "language": "python",
   "name": "python3"
  },
  "language_info": {
   "codemirror_mode": {
    "name": "ipython",
    "version": 3
   },
   "file_extension": ".py",
   "mimetype": "text/x-python",
   "name": "python",
   "nbconvert_exporter": "python",
   "pygments_lexer": "ipython3",
   "version": "3.7.1"
  },
  "toc": {
   "base_numbering": 1,
   "nav_menu": {},
   "number_sections": true,
   "sideBar": true,
   "skip_h1_title": false,
   "title_cell": "Table of Contents",
   "title_sidebar": "Contents",
   "toc_cell": false,
   "toc_position": {
    "height": "calc(100% - 180px)",
    "left": "10px",
    "top": "150px",
    "width": "165px"
   },
   "toc_section_display": true,
   "toc_window_display": true
  }
 },
 "nbformat": 4,
 "nbformat_minor": 2
}
