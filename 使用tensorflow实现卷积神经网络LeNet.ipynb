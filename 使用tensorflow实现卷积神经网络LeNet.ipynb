{
 "cells": [
  {
   "cell_type": "markdown",
   "metadata": {},
   "source": [
    "# 使用tensorflow实现LeNet模型"
   ]
  },
  {
   "cell_type": "code",
   "execution_count": 1,
   "metadata": {},
   "outputs": [
    {
     "name": "stderr",
     "output_type": "stream",
     "text": [
      "C:\\Anaconda3\\lib\\site-packages\\h5py\\__init__.py:72: UserWarning: h5py is running against HDF5 1.10.2 when it was built against 1.10.3, this may cause problems\n",
      "  '{0}.{1}.{2}'.format(*version.hdf5_built_version_tuple)\n"
     ]
    }
   ],
   "source": [
    "import tensorflow as tf\n",
    "import numpy as np\n",
    "\n",
    "class Lenet_tensorflow:\n",
    "    def __init__(self):\n",
    "        self.model = self.create_model()\n",
    "    \n",
    "    def print_activations(self,t):\n",
    "        print(t.op.name, ':', t.get_shape().as_list())\n",
    "\n",
    "    def create_model(self):\n",
    "        self.features = tf.placeholder(dtype = tf.float32,shape=(None,28,28,1),name='features')\n",
    "        self.labels = tf.placeholder(dtype=tf.int32,shape=(None),name = 'labels')\n",
    "        \n",
    "        with tf.name_scope('conv_c1') as scope:\n",
    "            #c1卷积层\n",
    "            c1_kernel = tf.Variable(tf.truncated_normal([5,5,1,6],dtype=tf.float32,stddev=1e-1),name='c1_kernel')\n",
    "            c1_biases = tf.Variable(tf.constant(0.0,shape=[6],dtype=tf.float32),trainable=True,name='c1_biases')\n",
    "\n",
    "            # 输入形状为[batch,h,w,in_channel]\n",
    "            # 核形状为[h,w,in_channel,out_channel]\n",
    "            # strides形状[1,step,step,1]\n",
    "            #注意超参数padding的使用\n",
    "            conv_c1 = tf.nn.conv2d(features,filter=c1_kernel,strides=(1,1,1,1),padding='VALID')\n",
    "            bias = tf.nn.bias_add(conv_c1,c1_biases)\n",
    "            conv_c1_output = tf.nn.sigmoid(bias,name=scope)\n",
    "            self.print_activations(conv_c1_output)\n",
    "            \n",
    "        with tf.name_scope('maxpool_s2') as scope:\n",
    "            # s2最大池化层\n",
    "            maxpool_s2 = tf.nn.max_pool(conv_c1_output,ksize=(1,2,2,1),strides=(1,2,2,1),padding='VALID')\n",
    "            self.print_activations(maxpool_s2)\n",
    "            \n",
    "        with tf.name_scope('conv_c3') as scope:\n",
    "            #c3卷积层\n",
    "            c3_kernel = tf.Variable(tf.truncated_normal([5,5,6,16],dtype=tf.float32,stddev=1e-1),name='c3_kernel')\n",
    "            c3_biases = tf.Variable(tf.constant(0.0,shape=[16],dtype=tf.float32),trainable=True,name='c3_biases')\n",
    "\n",
    "            # 输入形状为[batch,h,w,in_channel]\n",
    "            # 核形状为[h,w,in_channel,out_channel]\n",
    "            # strides形状[1,step,step,1]\n",
    "            #注意超参数padding的使用\n",
    "            conv_c3 = tf.nn.conv2d(maxpool_s2,filter=c3_kernel,strides=(1,1,1,1),padding='VALID')\n",
    "            bias = tf.nn.bias_add(conv_c3,c3_biases)\n",
    "            conv_c3_output = tf.nn.sigmoid(bias,name=scope)\n",
    "            self.print_activations(conv_c3_output)\n",
    "            \n",
    "        with tf.name_scope('maxpool_s4') as scope:\n",
    "            # s4最大池化层\n",
    "            maxpool_s4 = tf.nn.max_pool(conv_c3_output,ksize=(1,2,2,1),strides=(1,2,2,1),padding='VALID')\n",
    "            self.print_activations(maxpool_s4)\n",
    "            maxpool_s4_flat = tf.reshape(maxpool_s4,shape=[-1,256])\n",
    "            \n",
    "        with tf.name_scope('dense_c5') as scope:\n",
    "            # c5全连接层\n",
    "            dense_c5_output = tf.layers.dense(maxpool_s4_flat, 120, activation=tf.nn.sigmoid)\n",
    "            self.print_activations(dense_c5_output)\n",
    "            \n",
    "        with tf.name_scope('dense_f6') as scope:\n",
    "            # f6全连接层\n",
    "            dense_f6_output = tf.layers.dense(dense_c5_output,84,activation=tf.nn.sigmoid)\n",
    "            self.print_activations(dense_f6_output)\n",
    "            \n",
    "        with tf.name_scope('dense_output') as scope:\n",
    "            # f6全连接层\n",
    "            logits = tf.layers.dense(dense_f6_output,10)\n",
    "            y_prab = tf.nn.softmax(logits)\n",
    "            self.print_activations(y_prab)\n",
    "            \n",
    "        with tf.name_scope('train') as scope:\n",
    "            self.loss = tf.nn.softmax_cross_entropy_with_logits_v2(logits=logits,labels=labels)\n",
    "            self.train_op = tf.train.AdamOptimizer(learning_rate=0.01).minimize(loss)\n",
    "        \n",
    "        with tf.name_scope('eval') as scope:\n",
    "            correct = tf.nn.in_top_k(logits, labels, 1)\n",
    "            self.accuracy = tf.reduce_mean(tf.cast(correct,tf.float32))\n",
    "         \n",
    "    def shuffle_batch(self,x,y,n_batches):\n",
    "        \n",
    "        '''生成随机批量数据集'''\n",
    "        \n",
    "        rdn_idx = np.random.permutation(len(x))\n",
    "        epochs = len(x) // n_batches\n",
    "        for batch_idx in np.array_split(rnd_idx,epochs):\n",
    "            x_batch = x[batch_idx]\n",
    "            y_batch = y[batch_idx]\n",
    "            yield x_batch,y_batch\n",
    "            \n",
    "    def train(self,x,y,n_epochs,n_batches):\n",
    "        init = tf.global_variables_initializer()\n",
    "        with tf.Session() as sess:\n",
    "            sess.run(init)\n",
    "            for epoch in range(n_epochs):\n",
    "                x_batch,y_batch = self.shuffle_batch(x,y,n_batches)\n",
    "                feed_dict = {self.features:x_batch,self.labels:y_batch}\n",
    "                _,loss_val = sess.run([self.train_op,self.loss],feed_dict=feed_dict)\n",
    "                print('epoch:{},loss:{}'.format(epoch,loss_val))"
   ]
  },
  {
   "cell_type": "code",
   "execution_count": 2,
   "metadata": {},
   "outputs": [
    {
     "name": "stdout",
     "output_type": "stream",
     "text": [
      "WARNING:tensorflow:From C:\\Anaconda3\\lib\\site-packages\\tensorflow\\python\\framework\\op_def_library.py:263: colocate_with (from tensorflow.python.framework.ops) is deprecated and will be removed in a future version.\n",
      "Instructions for updating:\n",
      "Colocations handled automatically by placer.\n"
     ]
    },
    {
     "ename": "NameError",
     "evalue": "name 'features' is not defined",
     "output_type": "error",
     "traceback": [
      "\u001b[1;31m---------------------------------------------------------------------------\u001b[0m",
      "\u001b[1;31mNameError\u001b[0m                                 Traceback (most recent call last)",
      "\u001b[1;32m<ipython-input-2-41a50fbbd447>\u001b[0m in \u001b[0;36m<module>\u001b[1;34m\u001b[0m\n\u001b[1;32m----> 1\u001b[1;33m \u001b[0mlenet_t\u001b[0m \u001b[1;33m=\u001b[0m \u001b[0mLenet_tensorflow\u001b[0m\u001b[1;33m(\u001b[0m\u001b[1;33m)\u001b[0m\u001b[1;33m\u001b[0m\u001b[1;33m\u001b[0m\u001b[0m\n\u001b[0m\u001b[0;32m      2\u001b[0m \u001b[0mlenet_t\u001b[0m\u001b[1;33m.\u001b[0m\u001b[0mcreate_model\u001b[0m\u001b[1;33m(\u001b[0m\u001b[1;33m)\u001b[0m\u001b[1;33m\u001b[0m\u001b[1;33m\u001b[0m\u001b[0m\n",
      "\u001b[1;32m<ipython-input-1-3564f82351c5>\u001b[0m in \u001b[0;36m__init__\u001b[1;34m(self)\u001b[0m\n\u001b[0;32m      4\u001b[0m \u001b[1;32mclass\u001b[0m \u001b[0mLenet_tensorflow\u001b[0m\u001b[1;33m:\u001b[0m\u001b[1;33m\u001b[0m\u001b[1;33m\u001b[0m\u001b[0m\n\u001b[0;32m      5\u001b[0m     \u001b[1;32mdef\u001b[0m \u001b[0m__init__\u001b[0m\u001b[1;33m(\u001b[0m\u001b[0mself\u001b[0m\u001b[1;33m)\u001b[0m\u001b[1;33m:\u001b[0m\u001b[1;33m\u001b[0m\u001b[1;33m\u001b[0m\u001b[0m\n\u001b[1;32m----> 6\u001b[1;33m         \u001b[0mself\u001b[0m\u001b[1;33m.\u001b[0m\u001b[0mmodel\u001b[0m \u001b[1;33m=\u001b[0m \u001b[0mself\u001b[0m\u001b[1;33m.\u001b[0m\u001b[0mcreate_model\u001b[0m\u001b[1;33m(\u001b[0m\u001b[1;33m)\u001b[0m\u001b[1;33m\u001b[0m\u001b[1;33m\u001b[0m\u001b[0m\n\u001b[0m\u001b[0;32m      7\u001b[0m \u001b[1;33m\u001b[0m\u001b[0m\n\u001b[0;32m      8\u001b[0m     \u001b[1;32mdef\u001b[0m \u001b[0mprint_activations\u001b[0m\u001b[1;33m(\u001b[0m\u001b[0mself\u001b[0m\u001b[1;33m,\u001b[0m\u001b[0mt\u001b[0m\u001b[1;33m)\u001b[0m\u001b[1;33m:\u001b[0m\u001b[1;33m\u001b[0m\u001b[1;33m\u001b[0m\u001b[0m\n",
      "\u001b[1;32m<ipython-input-1-3564f82351c5>\u001b[0m in \u001b[0;36mcreate_model\u001b[1;34m(self)\u001b[0m\n\u001b[0;32m     22\u001b[0m             \u001b[1;31m# strides形状[1,step,step,1]\u001b[0m\u001b[1;33m\u001b[0m\u001b[1;33m\u001b[0m\u001b[1;33m\u001b[0m\u001b[0m\n\u001b[0;32m     23\u001b[0m             \u001b[1;31m#注意超参数padding的使用\u001b[0m\u001b[1;33m\u001b[0m\u001b[1;33m\u001b[0m\u001b[1;33m\u001b[0m\u001b[0m\n\u001b[1;32m---> 24\u001b[1;33m             \u001b[0mconv_c1\u001b[0m \u001b[1;33m=\u001b[0m \u001b[0mtf\u001b[0m\u001b[1;33m.\u001b[0m\u001b[0mnn\u001b[0m\u001b[1;33m.\u001b[0m\u001b[0mconv2d\u001b[0m\u001b[1;33m(\u001b[0m\u001b[0mfeatures\u001b[0m\u001b[1;33m,\u001b[0m\u001b[0mfilter\u001b[0m\u001b[1;33m=\u001b[0m\u001b[0mc1_kernel\u001b[0m\u001b[1;33m,\u001b[0m\u001b[0mstrides\u001b[0m\u001b[1;33m=\u001b[0m\u001b[1;33m(\u001b[0m\u001b[1;36m1\u001b[0m\u001b[1;33m,\u001b[0m\u001b[1;36m1\u001b[0m\u001b[1;33m,\u001b[0m\u001b[1;36m1\u001b[0m\u001b[1;33m,\u001b[0m\u001b[1;36m1\u001b[0m\u001b[1;33m)\u001b[0m\u001b[1;33m,\u001b[0m\u001b[0mpadding\u001b[0m\u001b[1;33m=\u001b[0m\u001b[1;34m'VALID'\u001b[0m\u001b[1;33m)\u001b[0m\u001b[1;33m\u001b[0m\u001b[1;33m\u001b[0m\u001b[0m\n\u001b[0m\u001b[0;32m     25\u001b[0m             \u001b[0mbias\u001b[0m \u001b[1;33m=\u001b[0m \u001b[0mtf\u001b[0m\u001b[1;33m.\u001b[0m\u001b[0mnn\u001b[0m\u001b[1;33m.\u001b[0m\u001b[0mbias_add\u001b[0m\u001b[1;33m(\u001b[0m\u001b[0mconv_c1\u001b[0m\u001b[1;33m,\u001b[0m\u001b[0mc1_biases\u001b[0m\u001b[1;33m)\u001b[0m\u001b[1;33m\u001b[0m\u001b[1;33m\u001b[0m\u001b[0m\n\u001b[0;32m     26\u001b[0m             \u001b[0mconv_c1_output\u001b[0m \u001b[1;33m=\u001b[0m \u001b[0mtf\u001b[0m\u001b[1;33m.\u001b[0m\u001b[0mnn\u001b[0m\u001b[1;33m.\u001b[0m\u001b[0msigmoid\u001b[0m\u001b[1;33m(\u001b[0m\u001b[0mbias\u001b[0m\u001b[1;33m,\u001b[0m\u001b[0mname\u001b[0m\u001b[1;33m=\u001b[0m\u001b[0mscope\u001b[0m\u001b[1;33m)\u001b[0m\u001b[1;33m\u001b[0m\u001b[1;33m\u001b[0m\u001b[0m\n",
      "\u001b[1;31mNameError\u001b[0m: name 'features' is not defined"
     ]
    }
   ],
   "source": [
    "lenet_t = Lenet_tensorflow()\n",
    "lenet_t.create_model()"
   ]
  },
  {
   "cell_type": "code",
   "execution_count": null,
   "metadata": {},
   "outputs": [],
   "source": []
  }
 ],
 "metadata": {
  "kernelspec": {
   "display_name": "Python 3",
   "language": "python",
   "name": "python3"
  },
  "language_info": {
   "codemirror_mode": {
    "name": "ipython",
    "version": 3
   },
   "file_extension": ".py",
   "mimetype": "text/x-python",
   "name": "python",
   "nbconvert_exporter": "python",
   "pygments_lexer": "ipython3",
   "version": "3.6.7"
  },
  "toc": {
   "base_numbering": 1,
   "nav_menu": {},
   "number_sections": true,
   "sideBar": true,
   "skip_h1_title": false,
   "title_cell": "Table of Contents",
   "title_sidebar": "Contents",
   "toc_cell": false,
   "toc_position": {},
   "toc_section_display": true,
   "toc_window_display": false
  }
 },
 "nbformat": 4,
 "nbformat_minor": 2
}
