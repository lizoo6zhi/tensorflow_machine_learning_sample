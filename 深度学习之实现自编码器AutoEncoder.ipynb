{
 "cells": [
  {
   "cell_type": "markdown",
   "metadata": {},
   "source": [
    "此时很懒，摘抄一段博客园博主Charlotte77对自编码器的描述：简单说说AE模型，主要步骤很简单，有三层，输入-隐含-输出，把数据input进去，encode然后再decode，损失函数差值越小，目标函数值越优。简单地说，就是你输入n维的数据，输出的还是n维的数据，有人可能会问，这有什么用呢，其实也没什么用，主要是能够把数据缩放，如果你输入的维数比较大，譬如实际的特征是几千维的，全部拿到算法里跑，效果不见得好，因为并不是所有特征都是有用的，用AE模型后，你可以压缩成m维（就是隐含层的节点数），如果输出的数据和原始数据的大小变换比例差不多，就证明这个隐含层的数据是可用的。这样看来好像和降维的思想类似，当然AE模型的用法远不止于此。"
   ]
  },
  {
   "cell_type": "markdown",
   "metadata": {},
   "source": [
    "# 使用MNIST数据集实现只含一个隐藏层的自编码器(keras)"
   ]
  },
  {
   "cell_type": "code",
   "execution_count": 26,
   "metadata": {},
   "outputs": [],
   "source": [
    "from tensorflow.keras.models import Model,Sequential\n",
    "from tensorflow.keras.layers import Dense\n",
    "from tensorflow.keras.optimizers import Adam\n",
    "\n",
    "class AENetwork:\n",
    "    \n",
    "    '''包含一个隐藏层的神经网络'''\n",
    "    \n",
    "    def __init__(self,input_num,hidden_num,output_num,activation_name = 'relu',optimizer=Adam(),\n",
    "                loss_name = 'binary_crossentropy',metrics=['accuracy']):\n",
    "        self.model =Sequential()\n",
    "        \n",
    "        self.hidden_layer = Dense(hidden_num,activation=activation_name)\n",
    "        self.output_layer = Dense(output_num,activation=activation_name)\n",
    "        \n",
    "        self.model.add(self.hidden_layer)\n",
    "        self.model.add(self.output_layer)\n",
    "        \n",
    "        self.optimizer = optimizer\n",
    "        self.loss = loss_name\n",
    "        self.metrics = metrics\n",
    "        \n",
    "    def train(self,x,n_batch_size=256,n_epoches=50,f_validation_split=0.2,n_verbose = 1):\n",
    "        self.model.compile(optimizer = self.optimizer,loss = self.loss,metrics = self.metrics)\n",
    "        self.model.fit(x,x,batch_size = n_batch_size,epochs=n_epoches,validation_split=f_validation_split,verbose=n_verbose)\n",
    "       \n",
    "    def predict(self,x):\n",
    "        return self.model.predict(x)"
   ]
  },
  {
   "cell_type": "code",
   "execution_count": 27,
   "metadata": {},
   "outputs": [],
   "source": [
    "from tensorflow.keras.datasets import mnist\n",
    "\n",
    "(x_train,y_train),(x_test,y_test) = mnist.load_data()\n",
    "x_train_reshape = x_train.reshape(-1,28*28).astype('float32')\n",
    "x_test_reshape = x_test.reshape(-1,28*28).astype('float32')\n",
    "\n",
    "#对数据进行归一化处理\n",
    "x_train_reshape /= 255\n",
    "x_test_reshape /=255 "
   ]
  },
  {
   "cell_type": "code",
   "execution_count": 28,
   "metadata": {},
   "outputs": [
    {
     "name": "stdout",
     "output_type": "stream",
     "text": [
      "Train on 48000 samples, validate on 12000 samples\n",
      "Epoch 1/50\n",
      "48000/48000 [==============================] - 5s 105us/sample - loss: 0.3600 - acc: 0.7980 - val_loss: 0.2632 - val_acc: 0.8006\n",
      "Epoch 2/50\n",
      "48000/48000 [==============================] - 4s 77us/sample - loss: 0.2453 - acc: 0.8008 - val_loss: 0.2286 - val_acc: 0.8033\n",
      "Epoch 3/50\n",
      "48000/48000 [==============================] - 4s 74us/sample - loss: 0.2235 - acc: 0.8037 - val_loss: 0.2246 - val_acc: 0.8052\n",
      "Epoch 4/50\n",
      "48000/48000 [==============================] - 4s 74us/sample - loss: 0.2178 - acc: 0.8048 - val_loss: 0.2278 - val_acc: 0.8062\n",
      "Epoch 5/50\n",
      "48000/48000 [==============================] - 4s 76us/sample - loss: 0.2077 - acc: 0.8064 - val_loss: 0.1999 - val_acc: 0.8075\n",
      "Epoch 6/50\n",
      "48000/48000 [==============================] - 4s 75us/sample - loss: 0.1968 - acc: 0.8073 - val_loss: 0.1930 - val_acc: 0.8088\n",
      "Epoch 7/50\n",
      "48000/48000 [==============================] - 4s 77us/sample - loss: 0.1903 - acc: 0.8082 - val_loss: 0.1910 - val_acc: 0.8088\n",
      "Epoch 8/50\n",
      "48000/48000 [==============================] - 4s 77us/sample - loss: 0.1894 - acc: 0.8083 - val_loss: 0.1868 - val_acc: 0.8091\n",
      "Epoch 9/50\n",
      "48000/48000 [==============================] - 4s 76us/sample - loss: 0.1972 - acc: 0.8079 - val_loss: 0.2357 - val_acc: 0.8030\n",
      "Epoch 10/50\n",
      "48000/48000 [==============================] - 4s 75us/sample - loss: 0.2056 - acc: 0.8061 - val_loss: 0.2330 - val_acc: 0.8031\n",
      "Epoch 11/50\n",
      "48000/48000 [==============================] - 4s 75us/sample - loss: 0.2067 - acc: 0.8060 - val_loss: 0.1870 - val_acc: 0.8092\n",
      "Epoch 12/50\n",
      "48000/48000 [==============================] - 4s 76us/sample - loss: 0.1948 - acc: 0.8078 - val_loss: 0.1892 - val_acc: 0.8086\n",
      "Epoch 13/50\n",
      "48000/48000 [==============================] - 4s 74us/sample - loss: 0.1921 - acc: 0.8079 - val_loss: 0.1842 - val_acc: 0.8097\n",
      "Epoch 14/50\n",
      "48000/48000 [==============================] - 4s 76us/sample - loss: 0.1868 - acc: 0.8090 - val_loss: 0.1868 - val_acc: 0.8098\n",
      "Epoch 15/50\n",
      "48000/48000 [==============================] - 4s 77us/sample - loss: 0.1845 - acc: 0.8092 - val_loss: 0.1873 - val_acc: 0.8091\n",
      "Epoch 16/50\n",
      "48000/48000 [==============================] - 4s 77us/sample - loss: 0.1814 - acc: 0.8094 - val_loss: 0.1910 - val_acc: 0.8091\n",
      "Epoch 17/50\n",
      "48000/48000 [==============================] - 4s 76us/sample - loss: 0.1778 - acc: 0.8096 - val_loss: 0.2246 - val_acc: 0.8071\n",
      "Epoch 18/50\n",
      "48000/48000 [==============================] - 4s 78us/sample - loss: 0.1834 - acc: 0.8092 - val_loss: 0.1795 - val_acc: 0.8105\n",
      "Epoch 19/50\n",
      "48000/48000 [==============================] - 4s 77us/sample - loss: 0.1828 - acc: 0.8092 - val_loss: 0.1866 - val_acc: 0.8100\n",
      "Epoch 20/50\n",
      "48000/48000 [==============================] - 4s 78us/sample - loss: 0.1828 - acc: 0.8093 - val_loss: 0.1794 - val_acc: 0.8104\n",
      "Epoch 21/50\n",
      "48000/48000 [==============================] - 4s 79us/sample - loss: 0.1892 - acc: 0.8083 - val_loss: 0.1907 - val_acc: 0.8093\n",
      "Epoch 22/50\n",
      "48000/48000 [==============================] - 4s 80us/sample - loss: 0.2417 - acc: 0.8055 - val_loss: 0.2422 - val_acc: 0.8039\n",
      "Epoch 23/50\n",
      "48000/48000 [==============================] - 4s 80us/sample - loss: 0.2245 - acc: 0.8045 - val_loss: 0.2075 - val_acc: 0.8071\n",
      "Epoch 24/50\n",
      "48000/48000 [==============================] - 4s 76us/sample - loss: 0.2009 - acc: 0.8068 - val_loss: 0.1973 - val_acc: 0.8083\n",
      "Epoch 25/50\n",
      "48000/48000 [==============================] - 4s 80us/sample - loss: 0.1927 - acc: 0.8076 - val_loss: 0.1882 - val_acc: 0.8092\n",
      "Epoch 26/50\n",
      "48000/48000 [==============================] - 4s 92us/sample - loss: 0.1865 - acc: 0.8087 - val_loss: 0.1884 - val_acc: 0.8091\n",
      "Epoch 27/50\n",
      "48000/48000 [==============================] - 4s 79us/sample - loss: 0.1842 - acc: 0.8087 - val_loss: 0.1810 - val_acc: 0.8101\n",
      "Epoch 28/50\n",
      "48000/48000 [==============================] - 4s 76us/sample - loss: 0.1816 - acc: 0.8091 - val_loss: 0.2006 - val_acc: 0.8080\n",
      "Epoch 29/50\n",
      "48000/48000 [==============================] - 4s 80us/sample - loss: 0.2122 - acc: 0.8058 - val_loss: 0.2216 - val_acc: 0.8037\n",
      "Epoch 30/50\n",
      "48000/48000 [==============================] - 4s 73us/sample - loss: 0.1950 - acc: 0.8074 - val_loss: 0.1872 - val_acc: 0.8090\n",
      "Epoch 31/50\n",
      "48000/48000 [==============================] - 4s 76us/sample - loss: 0.1782 - acc: 0.8092 - val_loss: 0.1755 - val_acc: 0.8104\n",
      "Epoch 32/50\n",
      "48000/48000 [==============================] - 4s 75us/sample - loss: 0.1813 - acc: 0.8091 - val_loss: 0.2288 - val_acc: 0.8054\n",
      "Epoch 33/50\n",
      "48000/48000 [==============================] - 4s 78us/sample - loss: 0.1987 - acc: 0.8073 - val_loss: 0.1823 - val_acc: 0.8095\n",
      "Epoch 34/50\n",
      "48000/48000 [==============================] - 4s 78us/sample - loss: 0.1798 - acc: 0.8090 - val_loss: 0.1776 - val_acc: 0.8101\n",
      "Epoch 35/50\n",
      "48000/48000 [==============================] - 4s 77us/sample - loss: 0.1807 - acc: 0.8092 - val_loss: 0.1827 - val_acc: 0.8099\n",
      "Epoch 36/50\n",
      "48000/48000 [==============================] - 4s 77us/sample - loss: 0.1934 - acc: 0.8083 - val_loss: 0.1889 - val_acc: 0.8093\n",
      "Epoch 37/50\n",
      "48000/48000 [==============================] - 4s 78us/sample - loss: 0.1856 - acc: 0.8088 - val_loss: 0.1788 - val_acc: 0.8104\n",
      "Epoch 38/50\n",
      "48000/48000 [==============================] - 4s 77us/sample - loss: 0.1718 - acc: 0.8103 - val_loss: 0.1747 - val_acc: 0.8107\n",
      "Epoch 39/50\n",
      "48000/48000 [==============================] - 4s 79us/sample - loss: 0.1891 - acc: 0.8089 - val_loss: 0.2335 - val_acc: 0.8054\n",
      "Epoch 40/50\n",
      "48000/48000 [==============================] - 4s 80us/sample - loss: 0.2011 - acc: 0.8078 - val_loss: 0.1858 - val_acc: 0.8102\n",
      "Epoch 41/50\n",
      "48000/48000 [==============================] - 4s 81us/sample - loss: 0.1810 - acc: 0.8095 - val_loss: 0.1758 - val_acc: 0.8106\n",
      "Epoch 42/50\n",
      "48000/48000 [==============================] - 4s 81us/sample - loss: 0.1746 - acc: 0.8100 - val_loss: 0.1727 - val_acc: 0.8111\n",
      "Epoch 43/50\n",
      "48000/48000 [==============================] - 4s 79us/sample - loss: 0.1985 - acc: 0.8084 - val_loss: 0.2019 - val_acc: 0.8084\n",
      "Epoch 44/50\n",
      "48000/48000 [==============================] - 4s 80us/sample - loss: 0.1932 - acc: 0.8085 - val_loss: 0.2234 - val_acc: 0.8073\n",
      "Epoch 45/50\n",
      "48000/48000 [==============================] - 4s 80us/sample - loss: 0.1899 - acc: 0.8088 - val_loss: 0.1835 - val_acc: 0.8100\n",
      "Epoch 46/50\n",
      "48000/48000 [==============================] - 4s 80us/sample - loss: 0.1784 - acc: 0.8097 - val_loss: 0.1753 - val_acc: 0.8106\n",
      "Epoch 47/50\n",
      "48000/48000 [==============================] - 4s 82us/sample - loss: 0.1715 - acc: 0.8105 - val_loss: 0.1681 - val_acc: 0.8117\n",
      "Epoch 48/50\n",
      "48000/48000 [==============================] - 4s 81us/sample - loss: 0.1715 - acc: 0.8104 - val_loss: 0.1806 - val_acc: 0.8111\n",
      "Epoch 49/50\n",
      "48000/48000 [==============================] - 4s 84us/sample - loss: 0.1831 - acc: 0.8096 - val_loss: 0.1856 - val_acc: 0.8095\n",
      "Epoch 50/50\n",
      "48000/48000 [==============================] - 4s 91us/sample - loss: 0.1766 - acc: 0.8099 - val_loss: 0.1667 - val_acc: 0.8117\n"
     ]
    }
   ],
   "source": [
    "ae = AENetwork(784,32,784)\n",
    "ae.train(x_train_reshape)"
   ]
  },
  {
   "cell_type": "code",
   "execution_count": 29,
   "metadata": {},
   "outputs": [],
   "source": [
    "decoder_imgs = ae.predict(x_test_reshape)"
   ]
  },
  {
   "cell_type": "code",
   "execution_count": 30,
   "metadata": {},
   "outputs": [
    {
     "data": {
      "image/png": "[encoded data removed]",
      "text/plain": [
       "<Figure size 1440x288 with 20 Axes>"
      ]
     },
     "metadata": {
      "needs_background": "light"
     },
     "output_type": "display_data"
    }
   ],
   "source": [
    "# 显示10个数字\n",
    "import matplotlib.pyplot as plt\n",
    "\n",
    "plt.figure(figsize=(20,4))\n",
    "\n",
    "n = 10\n",
    "for i in range(10):\n",
    "    #可视化输入数据\n",
    "    ax = plt.subplot(2,n,i+1)\n",
    "    plt.imshow(x_test_reshape[i].reshape(28,28))\n",
    "    plt.gray()\n",
    "    ax.get_xaxis().set_visible(False)\n",
    "    ax.get_yaxis().set_visible(False)\n",
    "    \n",
    "    # 可视化经过自编码学习后的结果\n",
    "    ax = plt.subplot(2,n,i+n+1)\n",
    "    plt.imshow(decoder_imgs[i].reshape(28,28))\n",
    "    plt.gray()\n",
    "    ax.get_xaxis().set_visible(False)\n",
    "    ax.get_yaxis().set_visible(False)\n",
    "plt.show()"
   ]
  },
  {
   "cell_type": "markdown",
   "metadata": {},
   "source": [
    "由此可以看出，这个自编码器的学习能力还是可以的。这里只用了一个隐含层，如果使用更多的隐含层，其效果应该更好"
   ]
  }
 ],
 "metadata": {
  "kernelspec": {
   "display_name": "Python 3",
   "language": "python",
   "name": "python3"
  },
  "language_info": {
   "codemirror_mode": {
    "name": "ipython",
    "version": 3
   },
   "file_extension": ".py",
   "mimetype": "text/x-python",
   "name": "python",
   "nbconvert_exporter": "python",
   "pygments_lexer": "ipython3",
   "version": "3.7.1"
  },
  "toc": {
   "base_numbering": 1,
   "nav_menu": {},
   "number_sections": true,
   "sideBar": true,
   "skip_h1_title": false,
   "title_cell": "Table of Contents",
   "title_sidebar": "Contents",
   "toc_cell": false,
   "toc_position": {},
   "toc_section_display": true,
   "toc_window_display": false
  }
 },
 "nbformat": 4,
 "nbformat_minor": 2
}
