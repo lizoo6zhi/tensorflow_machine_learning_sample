{
 "cells": [
  {
   "cell_type": "markdown",
   "metadata": {},
   "source": [
    "# 描述数据的图形法和数值法"
   ]
  },
  {
   "cell_type": "markdown",
   "metadata": {},
   "source": [
    "(1) 条形图\n",
    "\n",
    "(2) 饼图\n",
    "\n",
    "(3) 点图\n",
    "\n",
    "(4) 直方图\n",
    "\n",
    "(5) 中心趋势的度量（平均，中位数，众数）\n",
    "    <p>众数：以最大频率出现的y值</p>\n",
    "(6) 变异性的度量（极差，总体方差，标准样本差）\n",
    "\n",
    "(7) 相对位置的度量\n",
    "\n",
    "(8) 异常值检测"
   ]
  },
  {
   "cell_type": "markdown",
   "metadata": {},
   "source": [
    "# 变异性的度量"
   ]
  },
  {
   "cell_type": "markdown",
   "metadata": {},
   "source": [
    "## 极差"
   ]
  },
  {
   "cell_type": "markdown",
   "metadata": {},
   "source": [
    "极差 = 最大值 - 最小值"
   ]
  },
  {
   "cell_type": "markdown",
   "metadata": {},
   "source": [
    "## 样本方差"
   ]
  },
  {
   "cell_type": "markdown",
   "metadata": {},
   "source": [
    "n个测量值$x_1,x_2,...,x_n$的样本方差定义为$$s^2 = \\frac{1}{n-1}\\sum_{i=1}^n{(x_i - \\mu)}^2$$"
   ]
  },
  {
   "cell_type": "markdown",
   "metadata": {},
   "source": [
    "注意：有偏方差和无偏方差的区别"
   ]
  },
  {
   "cell_type": "markdown",
   "metadata": {},
   "source": [
    "## 标准方差"
   ]
  },
  {
   "cell_type": "markdown",
   "metadata": {},
   "source": [
    "$$s = \\sqrt{s^2}$$"
   ]
  },
  {
   "cell_type": "markdown",
   "metadata": {},
   "source": [
    "解释标准差的两个有效法则：经验法和切比雪夫法则\n",
    "### 经验法则"
   ]
  },
  {
   "cell_type": "markdown",
   "metadata": {},
   "source": [
    "若一个数据集有近似丘形的对称分布，则可以用以下的经验法则描述数据集\n",
    "\n",
    "(1)大约68%的测量值位于均值的1个标准差范围内($即对于样本在区间\\mu\\pm s范围内，对于总体在区间\\mu\\pm \\sigma范围内)$\n",
    "\n",
    "(2)大约95%的测量值位于均值的2个标准差范围内($即对于样本在区间\\mu\\pm 2s范围内，对于总体在区间\\mu\\pm 2\\sigma范围内)$\n",
    "\n",
    "(3)几乎所有测量值位于均值的2个标准差范围内($即对于样本在区间\\mu\\pm 3s范围内，对于总体在区间\\mu\\pm 3\\sigma范围内)$"
   ]
  },
  {
   "cell_type": "markdown",
   "metadata": {},
   "source": [
    "### 切比雪夫法则"
   ]
  },
  {
   "cell_type": "markdown",
   "metadata": {},
   "source": [
    "对于任一数据集，无论数据的频数是什么形状\n",
    "\n",
    "(1)可能很少的测量值落在均值的1个标准差范围内($即对于样本在区间\\mu\\pm s范围内，对于总体在区间\\mu\\pm \\sigma范围内)$\n",
    "\n",
    "(2)至少有$\\frac{3}{4}$的测量值落在均值的2个标准差范围内($即对于样本在区间\\mu\\pm 2s范围内，对于总体在区间\\mu\\pm 2\\sigma范围内)$\n",
    "\n",
    "(3)至少有$\\frac{8}{9}$的测量值落在均值的3个标准差范围内($即对于样本在区间\\mu\\pm 3s范围内，对于总体在区间\\mu\\pm 3\\sigma范围内)$\n",
    "\n",
    "(4)通常，对于任意大于1的数k,至少有$1-\\frac{1}{k^2}$的测量值落在均值的k个标准差范围内"
   ]
  },
  {
   "cell_type": "markdown",
   "metadata": {},
   "source": [
    "# 异常值的检测"
   ]
  },
  {
   "cell_type": "markdown",
   "metadata": {},
   "source": [
    "(1) 计算Z得分,然后再利用经验法则或切比雪夫法则\n",
    "\n",
    "$z = \\frac{(x - \\mu)}{\\sigma}$"
   ]
  },
  {
   "cell_type": "markdown",
   "metadata": {},
   "source": [
    "(2) 画盒子图"
   ]
  }
 ],
 "metadata": {
  "kernelspec": {
   "display_name": "Python 3",
   "language": "python",
   "name": "python3"
  },
  "language_info": {
   "codemirror_mode": {
    "name": "ipython",
    "version": 3
   },
   "file_extension": ".py",
   "mimetype": "text/x-python",
   "name": "python",
   "nbconvert_exporter": "python",
   "pygments_lexer": "ipython3",
   "version": "3.7.1"
  },
  "toc": {
   "base_numbering": 1,
   "nav_menu": {},
   "number_sections": true,
   "sideBar": true,
   "skip_h1_title": false,
   "title_cell": "Table of Contents",
   "title_sidebar": "Contents",
   "toc_cell": false,
   "toc_position": {},
   "toc_section_display": true,
   "toc_window_display": false
  }
 },
 "nbformat": 4,
 "nbformat_minor": 2
}
