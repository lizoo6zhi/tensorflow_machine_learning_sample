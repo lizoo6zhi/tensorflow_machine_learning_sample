{
 "cells": [
  {
   "cell_type": "markdown",
   "metadata": {},
   "source": [
    "# pyplot.plot函数"
   ]
  },
  {
   "cell_type": "markdown",
   "metadata": {},
   "source": [
    "函数原型：\n",
    "\n",
    "    plt.plot(x,y,format_string,**kwargs)\n",
    "    \n",
    "参数：format_string\n",
    "    \n",
    "    颜色字符：‘r’'b' 'g' 'c' 'm' 'y' 'k' 'w'\n",
    "    风格字符： '-' '--' '-.' ':'\n",
    "    标记字符：'.' ',' '。' '>' '<' \n",
    "              '1' 下花三角标记\n",
    "              '2' 上花三角标记\n",
    "              '3' 左花三角标记\n",
    "              '4' 右三角标记\n",
    "              's' 实心方形标记\n",
    "              'p' 实心五角标记\n",
    "              '*' 星形标记\n",
    "              'h' 竖六边形标记\n",
    "              'H' 横六边形标记\n",
    "              '+' 十字标记\n",
    "              'x' x标记\n",
    "              'D' 菱形标记\n",
    "              'd' 廋菱形标记\n",
    "              '|' 垂直线标记\n",
    "              \n",
    "kwargs:\n",
    "    \n",
    "    color 颜色\n",
    "    linestyle 线条样式\n",
    "    marker 标记风格\n",
    "    markerfacecolor:标记颜色\n",
    "    markersize：标记大小\n",
    "    lebel：标签"
   ]
  },
  {
   "cell_type": "markdown",
   "metadata": {},
   "source": [
    "# plt.figure函数"
   ]
  },
  {
   "cell_type": "markdown",
   "metadata": {},
   "source": [
    "函数原型：\n",
    "\n",
    "    figure(num=None, figsize=None, dpi=None, facecolor=None, edgecolor=None, frameon=True)\n",
    "    \n",
    "参数：\n",
    "    \n",
    "    num：图像编号或名称，数字为编号，字符串为名称\n",
    "    figsize：指定figure的宽和高，单位为英寸\n",
    "    dpi：分辨率，缺省值为80\n",
    "    facecolor：背景颜色\n",
    "    edgecolor：边框颜色为\n",
    "    frameon：是否显示边框"
   ]
  },
  {
   "cell_type": "markdown",
   "metadata": {},
   "source": [
    "# plt.subplot"
   ]
  },
  {
   "cell_type": "markdown",
   "metadata": {},
   "source": [
    "函数原型：\n",
    "\n",
    "    subplot(nrows,ncols,plotnum)\n",
    "    \n",
    "参数：\n",
    "\n",
    "    nrows：subplot的行数\n",
    "    ncols：subplot的列数\n",
    "    plotnum：指定创建的Axes对象所在的区域"
   ]
  },
  {
   "cell_type": "markdown",
   "metadata": {},
   "source": [
    "# plt.xlim和plt.ylim设置轴刻度范围"
   ]
  },
  {
   "cell_type": "markdown",
   "metadata": {},
   "source": [
    "# plt.xticks和plt.yticks设置刻度轴的表现形式"
   ]
  },
  {
   "cell_type": "markdown",
   "metadata": {},
   "source": [
    "# ax.set_title设置标题"
   ]
  }
 ],
 "metadata": {
  "kernelspec": {
   "display_name": "Python 3",
   "language": "python",
   "name": "python3"
  },
  "language_info": {
   "codemirror_mode": {
    "name": "ipython",
    "version": 3
   },
   "file_extension": ".py",
   "mimetype": "text/x-python",
   "name": "python",
   "nbconvert_exporter": "python",
   "pygments_lexer": "ipython3",
   "version": "3.7.1"
  },
  "toc": {
   "base_numbering": 1,
   "nav_menu": {},
   "number_sections": true,
   "sideBar": true,
   "skip_h1_title": false,
   "title_cell": "Table of Contents",
   "title_sidebar": "Contents",
   "toc_cell": false,
   "toc_position": {},
   "toc_section_display": true,
   "toc_window_display": true
  }
 },
 "nbformat": 4,
 "nbformat_minor": 2
}
