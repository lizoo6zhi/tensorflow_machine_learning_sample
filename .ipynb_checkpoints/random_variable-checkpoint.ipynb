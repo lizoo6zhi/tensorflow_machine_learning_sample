{
 "cells": [
  {
   "cell_type": "markdown",
   "metadata": {},
   "source": [
    "# 常用的离散型随机变量"
   ]
  },
  {
   "cell_type": "markdown",
   "metadata": {},
   "source": [
    "## 二项分布"
   ]
  },
  {
   "cell_type": "markdown",
   "metadata": {},
   "source": [
    "随机变量X服从参数为n,p的二项分布，$X\\sim B(n,p)$"
   ]
  },
  {
   "cell_type": "markdown",
   "metadata": {},
   "source": [
    "$$P(X=k) = C_{k}^n p^K(1-p)^{n-k}$$\n",
    "\n",
    "二项随机变量的均值$\\mu = np$,方差$\\sigma^2 = npq$"
   ]
  },
  {
   "cell_type": "markdown",
   "metadata": {},
   "source": [
    "## 泊松分布"
   ]
  },
  {
   "cell_type": "markdown",
   "metadata": {},
   "source": [
    "设随机变量X的取值为0，1，2，...，n,相应的分布率为$$P(X=k) = \\frac{\\lambda^k}{k!}e^{-\\lambda},\\lambda>0,k=0,1,2,...,n$$"
   ]
  },
  {
   "cell_type": "markdown",
   "metadata": {},
   "source": [
    "称随机变量X服从为$\\lambda$的泊松分布，记为$X\\sim P(\\lambda)$"
   ]
  },
  {
   "cell_type": "markdown",
   "metadata": {},
   "source": [
    "泊松分布是一种常用的离散型分布，它常常与计数过程相联系，例如：\n",
    "\n",
    "（1）某一时段内网站的点击数\n",
    "\n",
    "（2）早高峰时间段内驶入高架道路的车辆数\n",
    "\n",
    "（3）一本书上的印刷错误数"
   ]
  },
  {
   "cell_type": "markdown",
   "metadata": {},
   "source": [
    "泊松定理：在n重伯努利试验中，记A事件在一次试验中发生的概率为p，如果当$n->+\\infty$时，有$np->\\lambda (>0)$，则$$\\lim_{n->+\\infty}C_{k}^np^k(1-p)^{n-k} = \\frac{\\lambda^k}{k!}e^{-\\lambda}$$"
   ]
  },
  {
   "cell_type": "markdown",
   "metadata": {},
   "source": [
    "# 常用的连续性随机变量"
   ]
  },
  {
   "cell_type": "markdown",
   "metadata": {},
   "source": [
    "## 均匀分布"
   ]
  },
  {
   "cell_type": "markdown",
   "metadata": {},
   "source": [
    "设X为随机变量，对任意的两个实数a,b(a>b)，概率密度函数为\n",
    "$$\n",
    "f(x) = \n",
    "\\begin{cases}\n",
    "\\mathcal{\\frac{1}{b-a}}, &\\text{a<x<b}\\\\\n",
    "\\mathcal{0}, &\\text{other}\n",
    "\\end{cases}\n",
    "$$，则称随机变量X服从区间（a,b）上的均匀分布，记为$X\\sim U(a,b)$"
   ]
  },
  {
   "cell_type": "markdown",
   "metadata": {},
   "source": [
    "## 指数分布"
   ]
  },
  {
   "cell_type": "markdown",
   "metadata": {},
   "source": [
    "设X为随机变量，概率密度函数为\n",
    "$$\n",
    "f(x) = \n",
    "\\begin{cases}\n",
    "\\mathcal{\\lambda e^{-\\lambda x}}, &\\text{x >= 0}\\\\\n",
    "\\mathcal{0}, &\\text{other}\n",
    "\\end{cases}\n",
    "$$，则称随机变量X服从指数为$\\lambda$的指数分布，记为$X\\sim E(\\lambda)$"
   ]
  },
  {
   "cell_type": "markdown",
   "metadata": {},
   "source": [
    "## 正态分布"
   ]
  },
  {
   "cell_type": "markdown",
   "metadata": {},
   "source": [
    "设X为随机变量，概率密度函数为$$f(x) = \\frac{1}{\\sqrt{2\\pi}\\sigma}e^{-\\frac{(x-\\mu)^2}{2\\sigma^2}},-\\infty < x < +\\infty$$"
   ]
  },
  {
   "cell_type": "markdown",
   "metadata": {},
   "source": [
    "则称随机变量X服从参数为$\\mu(-\\infty < \\mu < +\\infty)$和$\\sigma^2(\\sigma > 0)$的正态分布，记为$$X\\sim N(\\mu,\\sigma^2)$$"
   ]
  },
  {
   "cell_type": "markdown",
   "metadata": {},
   "source": [
    "定理：设随机变量$X\\sim N(\\mu,\\sigma^2)$，则$\\frac{X-\\mu}{\\sigma}\\sim N(0,1)$"
   ]
  },
  {
   "cell_type": "markdown",
   "metadata": {},
   "source": [
    "# 独立多元高斯分布"
   ]
  },
  {
   "cell_type": "markdown",
   "metadata": {},
   "source": [
    "假设$X={[x_1,x_2,...,x_n]}^T$互不相关，且服从正太分布(维度不相关多元正太分布),各个维度的均值$E(X)={[\\mu_1,\\mu_2,...,\\mu_n]}^T$,方差$\\sigma(x)={[\\sigma_1,\\sigma_2,...,\\sigma_n]}^T$,根据联合概率密度公式：$$f(x) = p(x_1,x_2,...,x_n) = p(x_1)p(x_2)...p(x_n)=\\frac{1}{{\\sqrt{(2\\pi)}^n}\\sigma^1\\sigma^2...\\sigma^n}e^{-\\frac{{(x_1-\\mu_1)}^2}{2{\\sigma_1}^2}-\\frac{{(x_2-\\mu_2)}^2}{2{\\sigma_2}^2}...-\\frac{{(x_n-\\mu_n)}^2}{2{\\sigma_n}^2}}$$"
   ]
  },
  {
   "cell_type": "markdown",
   "metadata": {},
   "source": [
    "令：$$z^2 = \\frac{{(x_1-\\mu_1)}^2}{{\\sigma_1}^2}+\\frac{{(x_2-\\mu_2)}^2}{{\\sigma_2}^2}...+\\frac{{(x_n-\\mu_n)}^2}{{\\sigma_n}^2}$$"
   ]
  },
  {
   "cell_type": "markdown",
   "metadata": {},
   "source": [
    "$$\\sigma_z = \\sigma_1\\sigma_2...\\sigma_n$$"
   ]
  },
  {
   "cell_type": "markdown",
   "metadata": {},
   "source": [
    "则：$$f(x) = \\frac{1}{{\\sqrt{2\\pi}}^n\\sigma_z}e^{-\\frac{Z^2}{2}}$$"
   ]
  },
  {
   "cell_type": "markdown",
   "metadata": {},
   "source": [
    "由于$Z^2 = Z^TZ$为半正定矩阵，可以写成$$Z^TZ = U^T\\xi U=[x_1-\\mu_1,x_2-\\mu_2,...,x_n-\\mu_n]\\begin{bmatrix}\n",
    "   \\frac{1}{{\\sigma_1}^2} & 0 & 0 \\\\\n",
    "   0 & \\frac{1}{{\\sigma_2}^2} & 0 \\\\\n",
    "   ... & ... & ... \\\\\n",
    "   0 & 0 & \\frac{1}{{\\sigma_n}^2} \\\\\n",
    "  \\end{bmatrix} \\tag{1}{[x_1-\\mu_1,x_2-\\mu_2,...,x_n-\\mu_n]}^T$$"
   ]
  },
  {
   "cell_type": "markdown",
   "metadata": {},
   "source": [
    "令：$$x-\\mu_x = [x_1-\\mu_1,x_2-\\mu_2,...,x_n-\\mu_n]$$\n",
    "$$\\xi = \\begin{bmatrix}\n",
    "   {\\sigma_1}^2 & 0 & 0 \\\\\n",
    "   0 & {\\sigma_2}^2 & 0 \\\\\n",
    "   ... & ... & ... \\\\\n",
    "   0 & 0 & {\\sigma_n}^2 \\\\\n",
    "  \\end{bmatrix} \\tag{1}$$"
   ]
  },
  {
   "cell_type": "markdown",
   "metadata": {},
   "source": [
    "$$(\\xi)^{-1} = \\begin{bmatrix}\n",
    "   \\frac{1}{{\\sigma_1}^2} & 0 & 0 \\\\\n",
    "   0 & \\frac{1}{{\\sigma_2}^2} & 0 \\\\\n",
    "   ... & ... & ... \\\\\n",
    "   0 & 0 & \\frac{1}{{\\sigma_n}^2} \\\\\n",
    "  \\end{bmatrix} \\tag{1}$$"
   ]
  },
  {
   "cell_type": "markdown",
   "metadata": {},
   "source": [
    "则：$$\\sigma_z = {|\\xi|}^{\\frac{1}{2}} = \\sigma_1\\sigma_2...\\sigma_n$$"
   ]
  },
  {
   "cell_type": "markdown",
   "metadata": {},
   "source": [
    "<label style='color:red'>$$f(x) = \\frac{1}{{\\sqrt{2\\pi}}^n\\sigma_z}e^{-\\frac{Z^2}{2}} = \\frac{1}{{\\sqrt{2\\pi}}^n{|\\xi|}^{\\frac{1}{2}}}e^{-\\frac{(x-\\mu_x)(\\xi)^{-1}{(x-\\mu_x)}^T}{2}}$$</label>"
   ]
  },
  {
   "cell_type": "markdown",
   "metadata": {},
   "source": [
    "注意前面的系数变化，从非标准正态分布-->标准正态分布需要概率密度函数的高度压缩${|\\xi|}^{\\frac{1}{2}}$倍，每增加一维，高度将压缩$\\sqrt{2\\pi}$倍"
   ]
  },
  {
   "cell_type": "markdown",
   "metadata": {},
   "source": [
    "![image](./image/1.png)"
   ]
  },
  {
   "cell_type": "markdown",
   "metadata": {},
   "source": [
    "参考博客：https://www.cnblogs.com/bingjianing/p/9117330.html"
   ]
  },
  {
   "cell_type": "code",
   "execution_count": null,
   "metadata": {},
   "outputs": [],
   "source": []
  }
 ],
 "metadata": {
  "kernelspec": {
   "display_name": "Python 3",
   "language": "python",
   "name": "python3"
  },
  "language_info": {
   "codemirror_mode": {
    "name": "ipython",
    "version": 3
   },
   "file_extension": ".py",
   "mimetype": "text/x-python",
   "name": "python",
   "nbconvert_exporter": "python",
   "pygments_lexer": "ipython3",
   "version": "3.7.1"
  },
  "toc": {
   "base_numbering": 1,
   "nav_menu": {},
   "number_sections": true,
   "sideBar": true,
   "skip_h1_title": false,
   "title_cell": "Table of Contents",
   "title_sidebar": "Contents",
   "toc_cell": false,
   "toc_position": {},
   "toc_section_display": true,
   "toc_window_display": false
  }
 },
 "nbformat": 4,
 "nbformat_minor": 2
}
