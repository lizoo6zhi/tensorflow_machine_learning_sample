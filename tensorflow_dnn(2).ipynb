{
 "cells": [
  {
   "cell_type": "markdown",
   "metadata": {},
   "source": [
    "练习：\n",
    "\n",
    "(1)用每100个神经元5个隐藏层，He初始化和ELU激活函数构成一个DNN"
   ]
  },
  {
   "cell_type": "code",
   "execution_count": 120,
   "metadata": {},
   "outputs": [],
   "source": [
    "from tensorflow.examples.tutorials.mnist import input_data\n",
    "import tensorflow as tf\n",
    "import numpy as np"
   ]
  },
  {
   "cell_type": "code",
   "execution_count": 145,
   "metadata": {},
   "outputs": [],
   "source": [
    "he_init = tf.variance_scaling_initializer()\n",
    "\n",
    "def dnn(inputs, n_hidden_layers=2, n_neurons=100, name=None,\n",
    "        activation=tf.nn.elu, initializer=he_init):\n",
    "    with tf.variable_scope(name, \"dnn\"):\n",
    "        for layer in range(n_hidden_layers):\n",
    "            inputs = tf.layers.dense(inputs, n_neurons, activation=activation,\n",
    "                                     kernel_initializer=initializer,\n",
    "                                     name=\"hidden%d\" % (layer + 1))\n",
    "        return inputs"
   ]
  },
  {
   "cell_type": "markdown",
   "metadata": {},
   "source": [
    "(2)用adam优化和提前停止，尝试在mnist上进行训练，但只能在数字0-4之间"
   ]
  },
  {
   "cell_type": "code",
   "execution_count": 146,
   "metadata": {},
   "outputs": [
    {
     "name": "stdout",
     "output_type": "stream",
     "text": [
      "Extracting MNIST_data\\train-images-idx3-ubyte.gz\n",
      "Extracting MNIST_data\\train-labels-idx1-ubyte.gz\n",
      "Extracting MNIST_data\\t10k-images-idx3-ubyte.gz\n",
      "Extracting MNIST_data\\t10k-labels-idx1-ubyte.gz\n"
     ]
    }
   ],
   "source": [
    "mnist = input_data.read_data_sets('MNIST_data',one_hot=True)\n",
    "x_train,y_train = mnist.train.images,mnist.train.labels\n",
    "x_test,y_test = mnist.test.images,mnist.test.labels\n",
    "# y_train_bool = np.nonzero(y_train)[1] < 5\n",
    "# y_test_bool = np.nonzero(y_test)[1] < 5\n",
    "# x_train = x_train[y_train_bool]\n",
    "# y_train = y_train[y_train_bool]\n",
    "# x_test = x_test[y_test_bool]\n",
    "# y_test = y_test[y_test_bool]"
   ]
  },
  {
   "cell_type": "code",
   "execution_count": 147,
   "metadata": {},
   "outputs": [
    {
     "name": "stdout",
     "output_type": "stream",
     "text": [
      "epoch:0,loss:2.347649574279785,accuracy:0.11349999904632568\n",
      "epoch:1,loss:2.347649574279785,accuracy:0.11349999904632568\n",
      "epoch:2,loss:2.347649574279785,accuracy:0.11349999904632568\n",
      "epoch:3,loss:2.347649574279785,accuracy:0.11349999904632568\n",
      "epoch:4,loss:2.347649574279785,accuracy:0.11349999904632568\n",
      "epoch:5,loss:2.347649574279785,accuracy:0.11349999904632568\n",
      "epoch:6,loss:2.347649574279785,accuracy:0.11349999904632568\n",
      "epoch:7,loss:2.347649574279785,accuracy:0.11349999904632568\n",
      "epoch:8,loss:2.347649574279785,accuracy:0.11349999904632568\n",
      "epoch:9,loss:2.347649574279785,accuracy:0.11349999904632568\n",
      "epoch:10,loss:2.347649574279785,accuracy:0.11349999904632568\n",
      "epoch:11,loss:2.347649574279785,accuracy:0.11349999904632568\n",
      "epoch:12,loss:2.347649574279785,accuracy:0.11349999904632568\n",
      "epoch:13,loss:2.347649574279785,accuracy:0.11349999904632568\n",
      "epoch:14,loss:2.347649574279785,accuracy:0.11349999904632568\n",
      "epoch:15,loss:2.347649574279785,accuracy:0.11349999904632568\n",
      "epoch:16,loss:2.347649574279785,accuracy:0.11349999904632568\n",
      "epoch:17,loss:2.347649574279785,accuracy:0.11349999904632568\n",
      "epoch:18,loss:2.347649574279785,accuracy:0.11349999904632568\n",
      "epoch:19,loss:2.347649574279785,accuracy:0.11349999904632568\n",
      "completed\n"
     ]
    }
   ],
   "source": [
    "from tensorflow.contrib.layers import fully_connected,batch_norm\n",
    "tf.reset_default_graph()\n",
    "\n",
    "n_inputs = 28 *28\n",
    "n_outputs = 10\n",
    "X = tf.placeholder(tf.float32,shape = (None,n_inputs),name='X')\n",
    "Y = tf.placeholder(tf.int64,shape=(None,n_outputs),name='Y')\n",
    "learning_rate = tf.placeholder(tf.float32,shape=(),name='learning_rate')\n",
    "\n",
    "dnn_outputs = dnn(X)\n",
    "\n",
    "y_proba = tf.layers.dense(dnn_outputs,n_outputs,kernel_initializer=he_init,activation=tf.nn.softmax,name='y_proba')\n",
    "loss = tf.reduce_mean(tf.nn.softmax_cross_entropy_with_logits(labels=Y,logits=y_proba))\n",
    "train_op = tf.train.AdamOptimizer(learning_rate=learning_rate).minimize(loss,name='train_op')\n",
    "\n",
    "correct = tf.equal(tf.argmax(Y,1),tf.argmax(y_proba,1))\n",
    "accuracy = tf.reduce_mean(tf.cast(correct,tf.float32),name='accuracy')\n",
    "\n",
    "init = tf.global_variables_initializer()\n",
    "epoches = 20\n",
    "batch_size = 100\n",
    "n_batches = len(x_train) // batch_size\n",
    "with tf.Session() as sess:\n",
    "    sess.run(init)\n",
    "    for epoch in range(epoches):\n",
    "        rnd_index = np.random.permutation(len(x_train))\n",
    "        for rnd_indices in np.array_split(rnd_index,n_batches):\n",
    "            x_batch,y_batch = x_train[rnd_indices],y_train[rnd_indices]\n",
    "            sess.run(train_op,feed_dict={X:x_batch,Y:y_batch,learning_rate:0.1})\n",
    "        loss_val,accuracy_val = sess.run([loss,accuracy],feed_dict={X:x_test,Y:y_test,learning_rate:0.1})\n",
    "        print('epoch:{},loss:{},accuracy:{}'.format(epoch,loss_val,accuracy_val))\n",
    "        \n",
    "    print('completed')"
   ]
  },
  {
   "cell_type": "code",
   "execution_count": null,
   "metadata": {},
   "outputs": [],
   "source": []
  }
 ],
 "metadata": {
  "kernelspec": {
   "display_name": "Python 3",
   "language": "python",
   "name": "python3"
  },
  "language_info": {
   "codemirror_mode": {
    "name": "ipython",
    "version": 3
   },
   "file_extension": ".py",
   "mimetype": "text/x-python",
   "name": "python",
   "nbconvert_exporter": "python",
   "pygments_lexer": "ipython3",
   "version": "3.7.1"
  },
  "toc": {
   "base_numbering": 1,
   "nav_menu": {},
   "number_sections": true,
   "sideBar": true,
   "skip_h1_title": false,
   "title_cell": "Table of Contents",
   "title_sidebar": "Contents",
   "toc_cell": false,
   "toc_position": {},
   "toc_section_display": true,
   "toc_window_display": false
  }
 },
 "nbformat": 4,
 "nbformat_minor": 2
}
