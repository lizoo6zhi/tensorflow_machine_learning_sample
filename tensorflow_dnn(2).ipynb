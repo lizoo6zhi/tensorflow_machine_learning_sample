{
 "cells": [
  {
   "cell_type": "markdown",
   "metadata": {},
   "source": [
    "练习：\n",
    "\n",
    "(1)用每100个神经元5个隐藏层，He初始化和ELU激活函数构成一个DNN"
   ]
  },
  {
   "cell_type": "code",
   "execution_count": 2,
   "metadata": {},
   "outputs": [],
   "source": [
    "from tensorflow.examples.tutorials.mnist import input_data\n",
    "import tensorflow as tf\n",
    "import numpy as np"
   ]
  },
  {
   "cell_type": "code",
   "execution_count": 236,
   "metadata": {},
   "outputs": [],
   "source": [
    "he_init = tf.variance_scaling_initializer()\n",
    "\n",
    "def dnn(inputs, n_hidden_layers=2, n_neurons=100, name=None,\n",
    "        activation=tf.nn.elu, initializer=he_init):\n",
    "    with tf.variable_scope(name, \"dnn\"):\n",
    "        for layer in range(n_hidden_layers):\n",
    "            inputs = tf.layers.dense(inputs, n_neurons, activation=activation,\n",
    "                                     kernel_initializer=initializer,\n",
    "                                     name=\"hidden%d\" % (layer + 1))\n",
    "            #inputs = activation(inputs,name = 'hidden%d_out'%(layer+1))\n",
    "        return inputs"
   ]
  },
  {
   "cell_type": "markdown",
   "metadata": {},
   "source": [
    "(2)用adam优化和提前停止，尝试在mnist上进行训练，但只能在数字0-4之间"
   ]
  },
  {
   "cell_type": "code",
   "execution_count": 237,
   "metadata": {},
   "outputs": [
    {
     "name": "stdout",
     "output_type": "stream",
     "text": [
      "Extracting MNIST_data\\train-images-idx3-ubyte.gz\n",
      "Extracting MNIST_data\\train-labels-idx1-ubyte.gz\n",
      "Extracting MNIST_data\\t10k-images-idx3-ubyte.gz\n",
      "Extracting MNIST_data\\t10k-labels-idx1-ubyte.gz\n"
     ]
    }
   ],
   "source": [
    "mnist = input_data.read_data_sets('MNIST_data',one_hot=True)\n",
    "x_train,y_train = mnist.train.images,mnist.train.labels\n",
    "x_test,y_test = mnist.test.images,mnist.test.labels\n",
    "# y_train_bool = np.nonzero(y_train)[1] < 5\n",
    "# y_test_bool = np.nonzero(y_test)[1] < 5\n",
    "# x_train = x_train[y_train_bool]\n",
    "# y_train = y_train[y_train_bool]\n",
    "# x_test = x_test[y_test_bool]\n",
    "# y_test = y_test[y_test_bool]"
   ]
  },
  {
   "cell_type": "code",
   "execution_count": 238,
   "metadata": {},
   "outputs": [
    {
     "name": "stdout",
     "output_type": "stream",
     "text": [
      "epoch:0,loss:1.610055685043335,accuracy:0.850600004196167\n",
      "epoch:1,loss:1.627710223197937,accuracy:0.8331999778747559\n",
      "epoch:2,loss:1.5925841331481934,accuracy:0.868399977684021\n",
      "epoch:3,loss:1.5935324430465698,accuracy:0.8675000071525574\n",
      "epoch:4,loss:1.635040283203125,accuracy:0.8259999752044678\n",
      "epoch:5,loss:1.6235681772232056,accuracy:0.8374000191688538\n",
      "epoch:6,loss:1.609078288078308,accuracy:0.8518999814987183\n",
      "epoch:7,loss:1.6561423540115356,accuracy:0.8050000071525574\n",
      "epoch:8,loss:1.5877310037612915,accuracy:0.8733999729156494\n",
      "epoch:9,loss:1.5948808193206787,accuracy:0.8661999702453613\n",
      "epoch:10,loss:1.5983511209487915,accuracy:0.8628000020980835\n",
      "epoch:11,loss:1.6532714366912842,accuracy:0.807699978351593\n",
      "epoch:12,loss:1.5812206268310547,accuracy:0.8798999786376953\n",
      "epoch:13,loss:1.6187028884887695,accuracy:0.8424000144004822\n",
      "epoch:14,loss:1.5708836317062378,accuracy:0.8902000188827515\n",
      "epoch:15,loss:1.625206708908081,accuracy:0.8360000252723694\n",
      "epoch:16,loss:1.6276342868804932,accuracy:0.8335000276565552\n",
      "epoch:17,loss:1.606764554977417,accuracy:0.8543999791145325\n",
      "epoch:18,loss:1.5901066064834595,accuracy:0.8709999918937683\n",
      "epoch:19,loss:1.6371079683303833,accuracy:0.8240000009536743\n",
      "completed\n"
     ]
    }
   ],
   "source": [
    "from tensorflow.contrib.layers import fully_connected,batch_norm\n",
    "tf.reset_default_graph()\n",
    "\n",
    "n_inputs = 28 *28\n",
    "n_outputs = 10\n",
    "X = tf.placeholder(tf.float32,shape = (None,n_inputs),name='X')\n",
    "Y = tf.placeholder(tf.int32,shape=(None,n_outputs),name='Y')\n",
    "learning_rate = tf.placeholder(tf.float32,shape=(),name='learning_rate')\n",
    "\n",
    "dnn_outputs = dnn(X)\n",
    "\n",
    "y_proba = tf.layers.dense(dnn_outputs,n_outputs,kernel_initializer=he_init,activation=tf.nn.softmax,name='y_proba')\n",
    "loss = tf.reduce_mean(tf.nn.softmax_cross_entropy_with_logits(labels=Y,logits=y_proba))\n",
    "train_op = tf.train.AdamOptimizer(learning_rate=learning_rate).minimize(loss,name='train_op')\n",
    "\n",
    "correct = tf.equal(tf.argmax(Y,1),tf.argmax(y_proba,1))\n",
    "accuracy = tf.reduce_mean(tf.cast(correct,tf.float32),name='accuracy')\n",
    "\n",
    "init = tf.global_variables_initializer()\n",
    "epoches = 20\n",
    "batch_size = 100\n",
    "n_batches = len(x_train) // batch_size\n",
    "with tf.Session() as sess:\n",
    "    sess.run(init)\n",
    "    for epoch in range(epoches):\n",
    "        rnd_index = np.random.permutation(len(x_train))\n",
    "        for rnd_indices in np.array_split(rnd_index,n_batches):\n",
    "            x_batch,y_batch = x_train[rnd_indices],y_train[rnd_indices]\n",
    "            sess.run(train_op,feed_dict={X:x_batch,Y:y_batch,learning_rate:0.01})\n",
    "        loss_val,accuracy_val = sess.run([loss,accuracy],feed_dict={X:x_test,Y:y_test,learning_rate:0.01})\n",
    "        print('epoch:{},loss:{},accuracy:{}'.format(epoch,loss_val,accuracy_val))\n",
    "        \n",
    "    print('completed')"
   ]
  },
  {
   "cell_type": "code",
   "execution_count": 5,
   "metadata": {},
   "outputs": [],
   "source": [
    "#将Y_train的独热编码转换成数字标识\n",
    "def transform_number(Y):\n",
    "    return np.array([np.argmax(element) for element in Y])\n",
    "\n",
    "def transform_onehot(Y):\n",
    "    _classes = np.unique(Y)\n",
    "    n_outputs = len(_classes)\n",
    "    _classes_to_index = {label:index for index,label in enumerate(_classes)}\n",
    "    labels = np.array([_classes_to_index[element] for element in Y],dtype=np.int32)\n",
    "    onehot_labels = np.zeros((len(labels),n_outputs))\n",
    "    for i in range(len(labels)):\n",
    "        onehot_labels[i][labels[i]] = 1\n",
    "    return onehot_labels\n"
   ]
  },
  {
   "cell_type": "code",
   "execution_count": 7,
   "metadata": {},
   "outputs": [
    {
     "name": "stdout",
     "output_type": "stream",
     "text": [
      "Extracting MNIST_data\\train-images-idx3-ubyte.gz\n",
      "Extracting MNIST_data\\train-labels-idx1-ubyte.gz\n",
      "Extracting MNIST_data\\t10k-images-idx3-ubyte.gz\n",
      "Extracting MNIST_data\\t10k-labels-idx1-ubyte.gz\n"
     ]
    }
   ],
   "source": [
    "from tensorflow.examples.tutorials.mnist import input_data\n",
    "mnist = input_data.read_data_sets('MNIST_data',one_hot=True)\n",
    "x_train,y_train = mnist.train.images,mnist.train.labels\n",
    "x_test,y_test = mnist.test.images,mnist.test.labels"
   ]
  },
  {
   "cell_type": "code",
   "execution_count": 8,
   "metadata": {},
   "outputs": [],
   "source": [
    "#创造0-4训练数据集和测试数据集\n",
    "y_train_numbers = transform_number(y_train)\n",
    "x_train4 = x_train[y_train_numbers < 5]\n",
    "y_train4_numbers = y_train_numbers[y_train_numbers < 5]\n",
    "y_train4 = transform_onehot(y_train4_numbers)\n",
    "\n",
    "y_test_numbers = transform_number(y_test)\n",
    "x_test4 = x_test[y_test_numbers < 5]\n",
    "y_test4_numbers = y_test_numbers[y_test_numbers < 5]\n",
    "y_test4 = transform_onehot(y_test4_numbers)"
   ]
  },
  {
   "cell_type": "code",
   "execution_count": 9,
   "metadata": {},
   "outputs": [],
   "source": [
    "from sklearn.base import BaseEstimator,ClassifierMixin\n",
    "from sklearn.exceptions import NotFittedError\n",
    "import tensorflow as tf\n",
    "import numpy as np"
   ]
  },
  {
   "cell_type": "code",
   "execution_count": 15,
   "metadata": {},
   "outputs": [],
   "source": [
    "class DNNClassifier(BaseEstimator,ClassifierMixin):\n",
    "    def __init__(self,n_hidden_layers=2,n_neurons=128,optimizer_class=tf.train.AdamOptimizer,\n",
    "                learning_rate=0.01,batch_size=128,activation=tf.nn.elu,initializer=tf.variance_scaling_initializer(),\n",
    "                batch_normal_momentum=None,dropout_rate=None,random_state=None):\n",
    "        self.n_hidden_layers = n_hidden_layers\n",
    "        self.n_neurons = n_neurons\n",
    "        self.optimizer_class = optimizer_class\n",
    "        self.learning_rate = learning_rate\n",
    "        self.batch_size = batch_size\n",
    "        self.activation = activation\n",
    "        self.initializer = initializer\n",
    "        self.batch_normal_momentum = batch_normal_momentum\n",
    "        self.dropout_rate = dropout_rate\n",
    "        self.random_state = random_state\n",
    "        self._session = None\n",
    "        \n",
    "    def _close_session(self):\n",
    "        if self._session:\n",
    "            self._session.close()\n",
    "    \n",
    "    def _dnn(self,inputs):\n",
    "        for layer in range(self.n_hidden_layers):\n",
    "            #if self.dropout_rate:\n",
    "                #inputs = tf.layers.dropout(inputs,self.dropout_rate,training=self._training)\n",
    "            inputs = tf.layers.dense(inputs,self.n_neurons,\n",
    "                                       kernel_initializer=self.initializer,\n",
    "                                       name = 'hidden%d'%(layer+1))\n",
    "            #if self.batch_normal_momentum:\n",
    "                #inputs = tf.layers.batch_normalization(inputs,momentum=self.batch_normal_momentum,train=self._training)\n",
    "                \n",
    "            inputs = self.activation(inputs,name = 'hidden%d_out'%(layer+1))\n",
    "            return inputs\n",
    "            \n",
    "    def _bulid_graph(self,n_inputs,n_outputs):\n",
    "        self._close_session()\n",
    "        \n",
    "        if self.random_state is not None:\n",
    "            tf.set_random_seed(self.random_state)\n",
    "            np.random.seed(self.random_state)\n",
    "            \n",
    "        X = tf.placeholder(tf.float32,shape=(None,n_inputs),name='X')\n",
    "        Y = tf.placeholder(tf.int32,shape=(None,n_outputs),name='Y')\n",
    "        \n",
    "        if self.batch_normal_momentum or self.dropout_rate:\n",
    "            self._training = tf.placeholder_with_default(False,shape=(),name='training')\n",
    "        else:\n",
    "            self._training = None\n",
    "        \n",
    "        dnn_outputs = self._dnn(X)\n",
    "        \n",
    "        logits = tf.layers.dense(dnn_outputs,n_outputs,kernel_initializer=self.initializer,name='logits')\n",
    "        Y_proba = tf.nn.softmax(logits,name='y_proba')\n",
    "        \n",
    "        xentropy = tf.nn.softmax_cross_entropy_with_logits(labels=Y,logits=logits)\n",
    "        loss = tf.reduce_mean(xentropy,name='loss')\n",
    "        \n",
    "        optimizer = self.optimizer_class(learning_rate=self.learning_rate)\n",
    "        train_op = optimizer.minimize(loss,name='train_op')\n",
    "        \n",
    "        correct = tf.equal(tf.argmax(Y,1),tf.argmax(Y_proba,1))\n",
    "        #correct = tf.nn.in_top_k(logits,Y,1)\n",
    "        accuracy = tf.reduce_mean(tf.cast(correct,tf.float32),name='accuracy')\n",
    "        \n",
    "        init = tf.global_variables_initializer()\n",
    "        self._X,self._Y = X,Y\n",
    "        self._Y_proba = Y_proba\n",
    "        self._logits = logits\n",
    "        self._loss = loss\n",
    "        self._accuracy = accuracy\n",
    "        self._train_op = train_op\n",
    "        self._init = init\n",
    "        self._saver = tf.train.Saver()\n",
    "        \n",
    "    def fit(self,X,Y,n_epoches = 10,X_valid=None,Y_valid=None):\n",
    "        n_inputs = X.shape[1]\n",
    "        n_outputs = Y.shape[1]\n",
    "        \n",
    "        self._graph = tf.Graph()\n",
    "        with self._graph.as_default():\n",
    "            self._bulid_graph(n_inputs,n_outputs)\n",
    "            extra_update_op = tf.get_collection(tf.GraphKeys.UPDATE_OPS)\n",
    "         \n",
    "        #添加提前停止\n",
    "        max_checks_without_progress = 10\n",
    "        checks_without_progress = 0\n",
    "        best_loss = np.infty\n",
    "        #best_params = None\n",
    "        \n",
    "        self._session = tf.Session(graph=self._graph)\n",
    "        with self._session.as_default() as sess:\n",
    "            sess.run(self._init)\n",
    "            for epoch in range(n_epoches):\n",
    "                rnd_idx = np.random.permutation(len(X))\n",
    "                for rnd_indices in np.array_split(rnd_idx,len(X)//self.batch_size):\n",
    "                    X_batch,Y_batch = X[rnd_indices],Y[rnd_indices]\n",
    "                    feed_dict = {self._X:X_batch,self._Y:Y_batch}\n",
    "                    if self._training is not None:\n",
    "                        feed_dict[self._training] = True\n",
    "                    sess.run(self._train_op,feed_dict=feed_dict)\n",
    "                    if extra_update_op:\n",
    "                        sess.run(extra_update_op,feed_dict=feed_dict)\n",
    "                if X_valid is not None and Y_valid is not None:\n",
    "                    loss_val,accuracy_val = sess.run([self._loss,self._accuracy],feed_dict = {self._X:X_valid,self._Y:Y_valid})\n",
    "                    \n",
    "                    if loss_val < best_loss:\n",
    "                        best_loss = loss_val\n",
    "                        #best_params = self._get_model_params()\n",
    "                        checks_without_progress = 0\n",
    "                    else:\n",
    "                        checks_without_progress += 1  \n",
    "                    print(\"epoch:{},valid loss:{:.6f},valid accuracy:{:.2f}\".format(epoch,loss_val,accuracy_val))\n",
    "                    \n",
    "                    if checks_without_progress > max_checks_without_progress:\n",
    "                        print('Early stopping')\n",
    "                        break\n",
    "                else:\n",
    "                    loss_train,accuracy_train = sess.run([self._loss,self._accuracy],feed_dict = {self._X:X_batch,self._Y:Y_batch})\n",
    "                    print(\"epoch:{},train loss:{:.6f},train accuracy:{:.2f}\".format(epoch,loss_train,accuracy_train))\n",
    "                    \n",
    "    def predict_proba(self,X):\n",
    "        if not self._session:\n",
    "            raise NotFittedError(\"This %s instance is not fitted yet\" % self.__class__.__name__)\n",
    "        with self._session.as_default() as sess:\n",
    "            return self._Y_proba.eval(feed_dict={self._X: X})\n",
    "        \n",
    "    def predict(self,X):\n",
    "        class_indices = np.argmax(self.predict_proba(X),axis=1)\n",
    "        return np.array([self.classes_[class_index] for class_index in class_indices],np.int32)\n",
    "    \n",
    "    def save(self,path):\n",
    "        self._saver.save(self._session,path)\n",
    "        "
   ]
  },
  {
   "cell_type": "code",
   "execution_count": 16,
   "metadata": {},
   "outputs": [
    {
     "name": "stdout",
     "output_type": "stream",
     "text": [
      "epoch:0,valid loss:0.043106,valid accuracy:0.99\n",
      "epoch:1,valid loss:0.027570,valid accuracy:0.99\n",
      "epoch:2,valid loss:0.032148,valid accuracy:0.99\n",
      "epoch:3,valid loss:0.032054,valid accuracy:0.99\n",
      "epoch:4,valid loss:0.045608,valid accuracy:0.99\n",
      "epoch:5,valid loss:0.050526,valid accuracy:0.99\n",
      "epoch:6,valid loss:0.036721,valid accuracy:0.99\n",
      "epoch:7,valid loss:0.067977,valid accuracy:0.99\n",
      "epoch:8,valid loss:0.057961,valid accuracy:0.99\n",
      "epoch:9,valid loss:0.079254,valid accuracy:0.99\n"
     ]
    }
   ],
   "source": [
    "dnn_clf = DNNClassifier()\n",
    "dnn_clf.fit(x_train4,y_train4,X_valid=x_test4,Y_valid=y_test4)\n",
    "dnn_clf.save('./model/my_best_mnist_model_0_to_4')"
   ]
  },
  {
   "cell_type": "markdown",
   "metadata": {},
   "source": [
    "练习:\n",
    "\n",
    "    创建一个新的DNN，重用前一个模型的所有预先训练好的隐藏层，冻结它们，并用一个新的替换softmax输出层。\n",
    "    让我们加载最好的模型图，并处理我们需要的所有重要操作。注意，我们不创建一个新的softmax输出层，而是重用现有的输出层(因为它具有与现有输出相同的输出数量)。我们将在训练前重新初始化它的参数。"
   ]
  },
  {
   "cell_type": "code",
   "execution_count": null,
   "metadata": {},
   "outputs": [],
   "source": []
  }
 ],
 "metadata": {
  "kernelspec": {
   "display_name": "Python 3",
   "language": "python",
   "name": "python3"
  },
  "language_info": {
   "codemirror_mode": {
    "name": "ipython",
    "version": 3
   },
   "file_extension": ".py",
   "mimetype": "text/x-python",
   "name": "python",
   "nbconvert_exporter": "python",
   "pygments_lexer": "ipython3",
   "version": "3.7.1"
  },
  "toc": {
   "base_numbering": 1,
   "nav_menu": {},
   "number_sections": true,
   "sideBar": true,
   "skip_h1_title": false,
   "title_cell": "Table of Contents",
   "title_sidebar": "Contents",
   "toc_cell": false,
   "toc_position": {},
   "toc_section_display": true,
   "toc_window_display": false
  }
 },
 "nbformat": 4,
 "nbformat_minor": 2
}
