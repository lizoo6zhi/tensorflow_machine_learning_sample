{
 "cells": [
  {
   "cell_type": "markdown",
   "metadata": {},
   "source": [
    "# LeNet模型"
   ]
  },
  {
   "cell_type": "markdown",
   "metadata": {},
   "source": [
    "LeNet是一个早期用来识别手写数字的卷积神经网络，这个名字来源于LeNet论文的第一作者Yann LeCun。LeNet展示了通过梯度下降训练卷积神经网络可以达到手写数字识别在当时最先进的成果，这个尊基性的工作第一次将卷积神经网络推上舞台\n",
    "\n",
    "<img src='./datasets/LeNet.jpg'>\n",
    "上图就是LeNet模型，下面将对每层参数进行说明"
   ]
  },
  {
   "cell_type": "markdown",
   "metadata": {},
   "source": [
    "## input输入层"
   ]
  },
  {
   "cell_type": "markdown",
   "metadata": {},
   "source": [
    "假设输入层数据shape=(32,32)"
   ]
  },
  {
   "cell_type": "markdown",
   "metadata": {},
   "source": [
    "## C1卷积层"
   ]
  },
  {
   "cell_type": "markdown",
   "metadata": {},
   "source": [
    "- 卷积核大小: kernel_size=(5,5)\n",
    "- 步幅:stride = 1\n",
    "- 输出通道为6\n",
    "- 可训练参数为: (5 * 5 + 1) * 6\n",
    "- 激活函数：采用relu\n",
    "输入层数据经过C1卷积层后将得到feature maps形状(6 * 28 * 28),注：28 = 32 -5 + 1"
   ]
  },
  {
   "cell_type": "markdown",
   "metadata": {},
   "source": [
    "## S2池化层"
   ]
  },
  {
   "cell_type": "markdown",
   "metadata": {},
   "source": [
    "池化层(Max Pooling)窗口形状均为2*2，步幅度为2，输出feature maps为(6 *14 * 14),6为feature map的数量"
   ]
  },
  {
   "cell_type": "markdown",
   "metadata": {},
   "source": [
    "## C3卷积层"
   ]
  },
  {
   "cell_type": "markdown",
   "metadata": {},
   "source": [
    "- 卷积核大小: kernel_size=(5,5)\n",
    "- 步幅:stride = 1\n",
    "- 输出通道为16\n",
    "- 激活函数：采用relu得到feature maps为(16 * 10 * 10),(10*10)为每个feature map形状,16为feature map数量"
   ]
  },
  {
   "cell_type": "markdown",
   "metadata": {},
   "source": [
    "## S4池化层"
   ]
  },
  {
   "cell_type": "markdown",
   "metadata": {},
   "source": [
    "池化层(Max Pooling)窗口形状依然均为2*2，步幅度为2，输出feature maps为(16 *5 * 5),16为feature map的数量"
   ]
  },
  {
   "cell_type": "markdown",
   "metadata": {},
   "source": [
    "## C5全链接层"
   ]
  },
  {
   "cell_type": "markdown",
   "metadata": {},
   "source": [
    "- 输出120个神经元\n",
    "- 激活函数：relu"
   ]
  },
  {
   "cell_type": "markdown",
   "metadata": {},
   "source": [
    "## F6全连接层"
   ]
  },
  {
   "cell_type": "markdown",
   "metadata": {},
   "source": [
    "- 输出84个神经元\n",
    "- 激活函数：relu"
   ]
  },
  {
   "cell_type": "markdown",
   "metadata": {},
   "source": [
    "## output"
   ]
  },
  {
   "cell_type": "markdown",
   "metadata": {},
   "source": [
    "- 输出10个神经元\n",
    "- 激活函数：无"
   ]
  },
  {
   "cell_type": "markdown",
   "metadata": {},
   "source": [
    "# 用Mxnet实现LeNet模型"
   ]
  },
  {
   "cell_type": "code",
   "execution_count": 15,
   "metadata": {},
   "outputs": [],
   "source": [
    "import mxnet as mx\n",
    "from mxnet import autograd,init,nd\n",
    "from mxnet.gluon import nn,Trainer\n",
    "from mxnet.gluon import data as gdata\n",
    "from mxnet.gluon import loss as gloss\n",
    "import time\n",
    "\n",
    "class LeNet_mxnet:\n",
    "    def __init__(self):\n",
    "        self.net = nn.Sequential()\n",
    "        self.net.add(nn.Conv2D(channels=6,kernel_size=5,activation='relu'),\n",
    "                nn.MaxPool2D(pool_size =(2,2),strides=(2,2)),\n",
    "                nn.Conv2D(channels=16,kernel_size=(5,5),strides=(1,1),padding=(0,0),activation='relu'),\n",
    "                nn.MaxPool2D(pool_size =(2,2),strides=(2,2)),\n",
    "                nn.Dense(units=120,activation='relu'),\n",
    "                nn.Dense(units=84,activation='relu'),\n",
    "                nn.Dense(units=10)  #最后一个全连接层激活函数取决于损失函数\n",
    "               )\n",
    "        \n",
    "    def train(self,train_iter,test_iter,n_epochs,ctx):\n",
    "        print('training on',ctx)\n",
    "        self.net.initialize(force_reinit=True,ctx=ctx,init=init.Xavier())\n",
    "        trainer_op = Trainer(self.net.collect_params(),'adam',{'learning_rate':0.01})\n",
    "        loss = gloss.SoftmaxCrossEntropyLoss()\n",
    "        \n",
    "        accuracy_val = 0\n",
    "        for epoch in range(n_epochs):\n",
    "            \n",
    "            train_loss_sum,train_acc_sum,n,start = 0.0,0.0,0,time.time()\n",
    "            \n",
    "            for x_batch,y_batch in train_iter:\n",
    "                x_batch,y_batch = x_batch.as_in_context(ctx),y_batch.as_in_context(ctx)\n",
    "                with autograd.record():\n",
    "                    y_hat = self.net(x_batch)\n",
    "                    loss_val = loss(y_hat,y_batch).sum()\n",
    "                loss_val.backward()\n",
    "                trainer_op.step(n_batches)\n",
    "                y_batch = y_batch.astype('float32')\n",
    "                train_loss_sum += loss_val.asscalar()\n",
    "                train_acc_sum += (y_hat.argmax(axis=1) == y_batch).sum().asscalar()\n",
    "                n += y_batch.size\n",
    "            test_acc = self.accuracy_score(test_iter,ctx)\n",
    "            accuracy_val += self.accuracy_score(test_iter,ctx)\n",
    "            print('epoch:%d,train_loss:%.4f,train_acc:%.3f,test_acc:%.3f,time:%.1f sec' \n",
    "                  %(epoch+1, train_loss_sum / n, train_acc_sum/ n,test_acc,time.time() - start))\n",
    "    \n",
    "    def accuracy_score(self,data_iter,ctx):\n",
    "        acc_sum,n = nd.array([0],ctx=ctx),0\n",
    "        for x,y in data_iter:\n",
    "            x,y = x.as_in_context(ctx),y.as_in_context(ctx)\n",
    "            y = y.astype('float32')\n",
    "            acc_sum += (self.net(x).argmax(axis=1) == y).sum()\n",
    "            n += y.size\n",
    "        return acc_sum.asscalar() / n\n",
    "    \n",
    "    def __call__(self,x):\n",
    "        return self.net(x)\n",
    "    \n",
    "    def predict(self,x,ctx):\n",
    "        x = x.as_in_context(ctx)\n",
    "        return self.net(x).argmax(axis=1)\n",
    "    \n",
    "    def print_info(self):\n",
    "        print(self.net[4].params)"
   ]
  },
  {
   "cell_type": "markdown",
   "metadata": {},
   "source": [
    "# 使用mnist手写数字数据集进行测试"
   ]
  },
  {
   "cell_type": "code",
   "execution_count": 4,
   "metadata": {},
   "outputs": [
    {
     "name": "stdout",
     "output_type": "stream",
     "text": [
      "(60000, 28, 28) (60000,)\n",
      "(10000, 28, 28) (10000,)\n"
     ]
    }
   ],
   "source": [
    "from tensorflow.keras.datasets import mnist\n",
    "\n",
    "(x_train,y_train),(x_test,y_test) = mnist.load_data()\n",
    "print(x_train.shape,y_train.shape)\n",
    "print(x_test.shape,y_test.shape)\n",
    "x_train = x_train.reshape(60000,1,28,28).astype('float32')\n",
    "x_test = x_test.reshape(10000,1,28,28).astype('float32')"
   ]
  },
  {
   "cell_type": "code",
   "execution_count": 16,
   "metadata": {},
   "outputs": [
    {
     "name": "stdout",
     "output_type": "stream",
     "text": [
      "training on gpu(0)\n",
      "epoch:1,train_loss:1.8267,train_acc:0.571,test_acc:0.896,time:3.0 sec\n",
      "epoch:2,train_loss:0.2449,train_acc:0.924,test_acc:0.948,time:2.6 sec\n",
      "epoch:3,train_loss:0.1563,train_acc:0.952,test_acc:0.954,time:2.6 sec\n",
      "epoch:4,train_loss:0.1302,train_acc:0.961,test_acc:0.962,time:2.5 sec\n",
      "epoch:5,train_loss:0.1169,train_acc:0.964,test_acc:0.958,time:2.5 sec\n",
      "epoch:6,train_loss:0.1017,train_acc:0.969,test_acc:0.967,time:2.5 sec\n",
      "epoch:7,train_loss:0.0855,train_acc:0.973,test_acc:0.964,time:3.3 sec\n",
      "epoch:8,train_loss:0.0848,train_acc:0.973,test_acc:0.964,time:3.6 sec\n",
      "epoch:9,train_loss:0.0767,train_acc:0.976,test_acc:0.963,time:3.5 sec\n",
      "epoch:10,train_loss:0.0771,train_acc:0.977,test_acc:0.970,time:3.5 sec\n"
     ]
    }
   ],
   "source": [
    "lenet_mxnet = LeNet_mxnet()\n",
    "epochs = 10\n",
    "n_batches = 500\n",
    "train_iter = gdata.DataLoader(gdata.ArrayDataset(x_train,y_train),batch_size=n_batches)\n",
    "test_iter = gdata.DataLoader(gdata.ArrayDataset(x_test,y_test),batch_size=n_batches)\n",
    "lenet_mxnet.train(train_iter,test_iter,epochs,ctx=mx.gpu())"
   ]
  },
  {
   "cell_type": "code",
   "execution_count": 17,
   "metadata": {},
   "outputs": [
    {
     "data": {
      "image/png": "[encoded data removed]",
      "text/plain": [
       "<Figure size 1440x288 with 20 Axes>"
      ]
     },
     "metadata": {
      "needs_background": "light"
     },
     "output_type": "display_data"
    },
    {
     "name": "stdout",
     "output_type": "stream",
     "text": [
      "predict result: \n",
      "[7. 2. 1. 0. 4. 1. 4. 9. 5. 9. 0. 6. 9. 0. 1. 5. 9. 7. 3. 4.]\n",
      "<NDArray 20 @gpu(0)>\n"
     ]
    }
   ],
   "source": [
    "# 将预测结果可视化\n",
    "import matplotlib.pyplot as plt\n",
    "\n",
    "def plt_image(image):\n",
    "    n = 20\n",
    "    plt.figure(figsize=(20,4))\n",
    "    for i in range(n):\n",
    "        ax = plt.subplot(2,10,i+1)\n",
    "        plt.imshow(x_test[i].reshape(28,28))\n",
    "        plt.gray()\n",
    "        ax.get_xaxis().set_visible(False)\n",
    "        ax.get_yaxis().set_visible(False)\n",
    "    plt.show()\n",
    "    \n",
    "plt_image(x_test)\n",
    "print('predict result:',lenet_mxnet.predict(nd.array(x_test[0:20]),ctx=mx.gpu()))\n"
   ]
  },
  {
   "cell_type": "markdown",
   "metadata": {},
   "source": [
    "# 附：需要注意的知识点"
   ]
  },
  {
   "cell_type": "markdown",
   "metadata": {},
   "source": [
    "- (1) 注意SoftmaxCrossEntropyLoss的使用，hybrid_forward源码说明，若from_logits为False时(默认为Flase),会先通过log_softmax计算各分类的概率，再计算loss,同样SigmoidBinaryCrossEntropyLoss也提供了from_sigmoid参数决定是否在hybrid_forward函数中要计算sigmoid函数,<b>所以在创建模型最后一层的时候要特别注意是否要给激活函数</b>\n",
    "\n",
    "- (2) 注意权重初始化选择\n",
    "\n",
    "- (3) 注意(y_hat.argmax(axis=1) == y_batch)操作时y_batch数据类型转换\n",
    "\n",
    "- (4) 上面的模型没有对数据集进行归一化处理，可以添加该步骤"
   ]
  }
 ],
 "metadata": {
  "kernelspec": {
   "display_name": "Python 3",
   "language": "python",
   "name": "python3"
  },
  "language_info": {
   "codemirror_mode": {
    "name": "ipython",
    "version": 3
   },
   "file_extension": ".py",
   "mimetype": "text/x-python",
   "name": "python",
   "nbconvert_exporter": "python",
   "pygments_lexer": "ipython3",
   "version": "3.6.7"
  },
  "toc": {
   "base_numbering": 1,
   "nav_menu": {},
   "number_sections": true,
   "sideBar": true,
   "skip_h1_title": false,
   "title_cell": "Table of Contents",
   "title_sidebar": "Contents",
   "toc_cell": false,
   "toc_position": {
    "height": "calc(100% - 180px)",
    "left": "10px",
    "top": "150px",
    "width": "184.66px"
   },
   "toc_section_display": true,
   "toc_window_display": true
  }
 },
 "nbformat": 4,
 "nbformat_minor": 2
}
