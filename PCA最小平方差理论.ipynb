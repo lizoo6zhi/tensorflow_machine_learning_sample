{
 "cells": [
  {
   "cell_type": "markdown",
   "metadata": {},
   "source": [
    "# PCA最小平方误差理论推导"
   ]
  },
  {
   "cell_type": "markdown",
   "metadata": {},
   "source": [
    "PCA求解其实是寻找最佳投影方向，即多个方向的标准正交基构成一个超平面。\n",
    "\n",
    "理论思想：在高维空间中，我们实际上是要找到一个d维超平面，使得数据点到这个超平面的距离平方和最小"
   ]
  },
  {
   "cell_type": "markdown",
   "metadata": {},
   "source": [
    "假设$x_k$表示p维空间的k个点，$z_k$表示$x_k$在超平面D上的投影向量，$W = {w_1,w_2,...,w_d}$为D维空间的标准正交基，即PCA最小平方误差理论转换为如下优化问题$$z_k = \\sum_{i=1}^d (w_i^T x_k)w_i---(1)$$\n",
    "$$argmin \\sum_{i=1}^k||x_k - z_k||_2^2$$\n",
    "$$s.t. w_i^Tw_j = p(当i==j时p=1,否则p=0)$$"
   ]
  },
  {
   "cell_type": "markdown",
   "metadata": {},
   "source": [
    "注：$w_i^Tx_k$为x_k在w_i基向量的投影长度，$w_i^Tx_kw_i$为w_i基向量的坐标值"
   ]
  },
  {
   "cell_type": "markdown",
   "metadata": {},
   "source": [
    "求解：\n",
    "\n",
    "$L = (x_k - z_k)^T(x_k-z_k)$\n",
    "\n",
    "$L= x_k^Tx_k - x_k^Tz_k - z_k^Tx_k + z_k^Tz_k$\n",
    "\n",
    "由于向量内积性质$x_k^Tz_k = z_k^Tx_k$\n",
    "\n",
    "$L = x_k^Tx_k - 2x_k^Tz_k + z_k^Tz_k$"
   ]
  },
  {
   "cell_type": "markdown",
   "metadata": {},
   "source": [
    "将(1)带入得$$x_k^Tz_k = \\sum_{i=1}^dw_i^Tx_kx_k^Tw_i$$"
   ]
  },
  {
   "cell_type": "markdown",
   "metadata": {},
   "source": [
    "$$z_k^Tz_k = \\sum_{i=1}^d\\sum_{j=1}^d(w_i^Tx_kw_i)^T(w_j^Tx_kw_j)$$"
   ]
  },
  {
   "cell_type": "markdown",
   "metadata": {},
   "source": [
    "根据约束条件s.t.得$$z_k^Tz_k = \\sum_{i=1}^dw_i^Tx_k^Tx_kw_i$$"
   ]
  },
  {
   "cell_type": "markdown",
   "metadata": {},
   "source": [
    "$$L =x_k^Tx_k - \\sum_{i=1}^dw_i^Tx_kx_k^Tw_i$$ "
   ]
  },
  {
   "cell_type": "markdown",
   "metadata": {},
   "source": [
    "根据奇异值分解$$\\sum_{i=1}^dw_i^Tx_kx_k^Tw_i = tr(W^Tx_k^Tx_kW)$$"
   ]
  },
  {
   "cell_type": "markdown",
   "metadata": {},
   "source": [
    "$$L =argmin\\sum_{i=1}^kx_k^Tx_k - tr(W^Tx_k^Tx_kW) = argmin\\sum_{i=1}^k- tr(W^Tx_k^Tx_kW) + C$$"
   ]
  },
  {
   "cell_type": "markdown",
   "metadata": {},
   "source": [
    "等价于带约束得优化问题：$$argmaxtr(W^TXX^TW)$$\n",
    "$$s.t. W^TW = I$$"
   ]
  },
  {
   "cell_type": "markdown",
   "metadata": {},
   "source": [
    "最佳超平面W与最大方差法求解的最佳投影方向一致，即协方差矩阵的最大特征值所对应的特征向量，差别仅是协方差矩阵$\\xi$的一个倍数"
   ]
  },
  {
   "cell_type": "markdown",
   "metadata": {},
   "source": [
    "# 定理"
   ]
  },
  {
   "cell_type": "markdown",
   "metadata": {},
   "source": [
    "$$argmin\\phi(W,Z|X) = tr((X-W^TZ)^T(X-W^TZ)) = ||X-W^TZ||_F^2$$\n",
    "$$s.t.W^TW=I_q$$"
   ]
  },
  {
   "cell_type": "markdown",
   "metadata": {},
   "source": [
    "注：X为(n,p),Z为(n,q),q < p,w为(p,q)"
   ]
  },
  {
   "cell_type": "markdown",
   "metadata": {},
   "source": [
    "该定理表达的意思也就是平方差理论，将降维后的矩阵通过W^T投影回去，再与X计算最小平方差，值越小说明信息损失越少"
   ]
  },
  {
   "cell_type": "markdown",
   "metadata": {},
   "source": [
    "$\\phi$目标函数最小时，W为X的前q个特征向量矩阵且$Z=W^TX$"
   ]
  },
  {
   "cell_type": "markdown",
   "metadata": {},
   "source": [
    "以上优化可以通过拉格朗日对偶问题求得，最终也会得到$$argmaxtr(W^TXX^TW)$$\n",
    "$$s.t. W^TW = I$$"
   ]
  }
 ],
 "metadata": {
  "kernelspec": {
   "display_name": "Python 3",
   "language": "python",
   "name": "python3"
  },
  "language_info": {
   "codemirror_mode": {
    "name": "ipython",
    "version": 3
   },
   "file_extension": ".py",
   "mimetype": "text/x-python",
   "name": "python",
   "nbconvert_exporter": "python",
   "pygments_lexer": "ipython3",
   "version": "3.7.1"
  },
  "toc": {
   "base_numbering": 1,
   "nav_menu": {},
   "number_sections": true,
   "sideBar": true,
   "skip_h1_title": false,
   "title_cell": "Table of Contents",
   "title_sidebar": "Contents",
   "toc_cell": false,
   "toc_position": {},
   "toc_section_display": true,
   "toc_window_display": false
  }
 },
 "nbformat": 4,
 "nbformat_minor": 2
}
